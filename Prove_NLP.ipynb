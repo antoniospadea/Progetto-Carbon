{
  "nbformat": 4,
  "nbformat_minor": 0,
  "metadata": {
    "colab": {
      "provenance": [],
      "authorship_tag": "ABX9TyPQWrbsaK3+Xyn5mBwqgzzr",
      "include_colab_link": true
    },
    "kernelspec": {
      "name": "python3",
      "display_name": "Python 3"
    },
    "language_info": {
      "name": "python"
    }
  },
  "cells": [
    {
      "cell_type": "markdown",
      "metadata": {
        "id": "view-in-github",
        "colab_type": "text"
      },
      "source": [
        "<a href=\"https://colab.research.google.com/github/antoniospadea/Progetto-Carbon/blob/main/Prove_NLP.ipynb\" target=\"_parent\"><img src=\"https://colab.research.google.com/assets/colab-badge.svg\" alt=\"Open In Colab\"/></a>"
      ]
    },
    {
      "cell_type": "markdown",
      "source": [
        "#INTRODUZIONE\n"
      ],
      "metadata": {
        "id": "cH-PCAZVBlJj"
      }
    },
    {
      "cell_type": "code",
      "source": [
        "# 📦 1. Installazione delle librerie necessarie\n",
        "\n",
        "# spaCy è una libreria di NLP (Natural Language Processing) molto potente e veloce,\n",
        "# utilizzata per analizzare testi, estrarre informazioni linguistiche, costruire pipeline NLP.\n",
        "# Per prima cosa, installiamo spaCy:\n",
        "!pip install -U spacy\n",
        "\n",
        "# Per analizzare testi in italiano, dobbiamo installare un modello linguistico adatto.\n",
        "# 'it_core_news_sm' è il modello italiano base ('small') rilasciato ufficialmente da spaCy.\n",
        "!python -m spacy download it_core_news_sm\n",
        "\n",
        "# In alternativa, in Colab, per evitare problemi con il comando da terminale,\n",
        "# possiamo scaricare il modello così:\n",
        "import spacy\n",
        "from spacy.cli import download\n",
        "download(\"it_core_news_sm\")\n"
      ],
      "metadata": {
        "id": "J7u-IWtiHM8g"
      },
      "execution_count": null,
      "outputs": []
    },
    {
      "cell_type": "code",
      "execution_count": 1,
      "metadata": {
        "colab": {
          "base_uri": "https://localhost:8080/"
        },
        "collapsed": true,
        "id": "IAvzj-Gh_0S0",
        "outputId": "35291a1a-9c17-4a77-9d4e-eca4214b4d99"
      },
      "outputs": [
        {
          "output_type": "stream",
          "name": "stdout",
          "text": [
            "Requirement already satisfied: spacy in /usr/local/lib/python3.11/dist-packages (3.8.5)\n",
            "Requirement already satisfied: spacy-legacy<3.1.0,>=3.0.11 in /usr/local/lib/python3.11/dist-packages (from spacy) (3.0.12)\n",
            "Requirement already satisfied: spacy-loggers<2.0.0,>=1.0.0 in /usr/local/lib/python3.11/dist-packages (from spacy) (1.0.5)\n",
            "Requirement already satisfied: murmurhash<1.1.0,>=0.28.0 in /usr/local/lib/python3.11/dist-packages (from spacy) (1.0.12)\n",
            "Requirement already satisfied: cymem<2.1.0,>=2.0.2 in /usr/local/lib/python3.11/dist-packages (from spacy) (2.0.11)\n",
            "Requirement already satisfied: preshed<3.1.0,>=3.0.2 in /usr/local/lib/python3.11/dist-packages (from spacy) (3.0.9)\n",
            "Requirement already satisfied: thinc<8.4.0,>=8.3.4 in /usr/local/lib/python3.11/dist-packages (from spacy) (8.3.6)\n",
            "Requirement already satisfied: wasabi<1.2.0,>=0.9.1 in /usr/local/lib/python3.11/dist-packages (from spacy) (1.1.3)\n",
            "Requirement already satisfied: srsly<3.0.0,>=2.4.3 in /usr/local/lib/python3.11/dist-packages (from spacy) (2.5.1)\n",
            "Requirement already satisfied: catalogue<2.1.0,>=2.0.6 in /usr/local/lib/python3.11/dist-packages (from spacy) (2.0.10)\n",
            "Requirement already satisfied: weasel<0.5.0,>=0.1.0 in /usr/local/lib/python3.11/dist-packages (from spacy) (0.4.1)\n",
            "Requirement already satisfied: typer<1.0.0,>=0.3.0 in /usr/local/lib/python3.11/dist-packages (from spacy) (0.15.3)\n",
            "Requirement already satisfied: tqdm<5.0.0,>=4.38.0 in /usr/local/lib/python3.11/dist-packages (from spacy) (4.67.1)\n",
            "Requirement already satisfied: numpy>=1.19.0 in /usr/local/lib/python3.11/dist-packages (from spacy) (2.0.2)\n",
            "Requirement already satisfied: requests<3.0.0,>=2.13.0 in /usr/local/lib/python3.11/dist-packages (from spacy) (2.32.3)\n",
            "Requirement already satisfied: pydantic!=1.8,!=1.8.1,<3.0.0,>=1.7.4 in /usr/local/lib/python3.11/dist-packages (from spacy) (2.11.4)\n",
            "Requirement already satisfied: jinja2 in /usr/local/lib/python3.11/dist-packages (from spacy) (3.1.6)\n",
            "Requirement already satisfied: setuptools in /usr/local/lib/python3.11/dist-packages (from spacy) (75.2.0)\n",
            "Requirement already satisfied: packaging>=20.0 in /usr/local/lib/python3.11/dist-packages (from spacy) (24.2)\n",
            "Requirement already satisfied: langcodes<4.0.0,>=3.2.0 in /usr/local/lib/python3.11/dist-packages (from spacy) (3.5.0)\n",
            "Requirement already satisfied: language-data>=1.2 in /usr/local/lib/python3.11/dist-packages (from langcodes<4.0.0,>=3.2.0->spacy) (1.3.0)\n",
            "Requirement already satisfied: annotated-types>=0.6.0 in /usr/local/lib/python3.11/dist-packages (from pydantic!=1.8,!=1.8.1,<3.0.0,>=1.7.4->spacy) (0.7.0)\n",
            "Requirement already satisfied: pydantic-core==2.33.2 in /usr/local/lib/python3.11/dist-packages (from pydantic!=1.8,!=1.8.1,<3.0.0,>=1.7.4->spacy) (2.33.2)\n",
            "Requirement already satisfied: typing-extensions>=4.12.2 in /usr/local/lib/python3.11/dist-packages (from pydantic!=1.8,!=1.8.1,<3.0.0,>=1.7.4->spacy) (4.13.2)\n",
            "Requirement already satisfied: typing-inspection>=0.4.0 in /usr/local/lib/python3.11/dist-packages (from pydantic!=1.8,!=1.8.1,<3.0.0,>=1.7.4->spacy) (0.4.0)\n",
            "Requirement already satisfied: charset-normalizer<4,>=2 in /usr/local/lib/python3.11/dist-packages (from requests<3.0.0,>=2.13.0->spacy) (3.4.2)\n",
            "Requirement already satisfied: idna<4,>=2.5 in /usr/local/lib/python3.11/dist-packages (from requests<3.0.0,>=2.13.0->spacy) (3.10)\n",
            "Requirement already satisfied: urllib3<3,>=1.21.1 in /usr/local/lib/python3.11/dist-packages (from requests<3.0.0,>=2.13.0->spacy) (2.4.0)\n",
            "Requirement already satisfied: certifi>=2017.4.17 in /usr/local/lib/python3.11/dist-packages (from requests<3.0.0,>=2.13.0->spacy) (2025.4.26)\n",
            "Requirement already satisfied: blis<1.4.0,>=1.3.0 in /usr/local/lib/python3.11/dist-packages (from thinc<8.4.0,>=8.3.4->spacy) (1.3.0)\n",
            "Requirement already satisfied: confection<1.0.0,>=0.0.1 in /usr/local/lib/python3.11/dist-packages (from thinc<8.4.0,>=8.3.4->spacy) (0.1.5)\n",
            "Requirement already satisfied: click>=8.0.0 in /usr/local/lib/python3.11/dist-packages (from typer<1.0.0,>=0.3.0->spacy) (8.2.0)\n",
            "Requirement already satisfied: shellingham>=1.3.0 in /usr/local/lib/python3.11/dist-packages (from typer<1.0.0,>=0.3.0->spacy) (1.5.4)\n",
            "Requirement already satisfied: rich>=10.11.0 in /usr/local/lib/python3.11/dist-packages (from typer<1.0.0,>=0.3.0->spacy) (13.9.4)\n",
            "Requirement already satisfied: cloudpathlib<1.0.0,>=0.7.0 in /usr/local/lib/python3.11/dist-packages (from weasel<0.5.0,>=0.1.0->spacy) (0.21.0)\n",
            "Requirement already satisfied: smart-open<8.0.0,>=5.2.1 in /usr/local/lib/python3.11/dist-packages (from weasel<0.5.0,>=0.1.0->spacy) (7.1.0)\n",
            "Requirement already satisfied: MarkupSafe>=2.0 in /usr/local/lib/python3.11/dist-packages (from jinja2->spacy) (3.0.2)\n",
            "Requirement already satisfied: marisa-trie>=1.1.0 in /usr/local/lib/python3.11/dist-packages (from language-data>=1.2->langcodes<4.0.0,>=3.2.0->spacy) (1.2.1)\n",
            "Requirement already satisfied: markdown-it-py>=2.2.0 in /usr/local/lib/python3.11/dist-packages (from rich>=10.11.0->typer<1.0.0,>=0.3.0->spacy) (3.0.0)\n",
            "Requirement already satisfied: pygments<3.0.0,>=2.13.0 in /usr/local/lib/python3.11/dist-packages (from rich>=10.11.0->typer<1.0.0,>=0.3.0->spacy) (2.19.1)\n",
            "Requirement already satisfied: wrapt in /usr/local/lib/python3.11/dist-packages (from smart-open<8.0.0,>=5.2.1->weasel<0.5.0,>=0.1.0->spacy) (1.17.2)\n",
            "Requirement already satisfied: mdurl~=0.1 in /usr/local/lib/python3.11/dist-packages (from markdown-it-py>=2.2.0->rich>=10.11.0->typer<1.0.0,>=0.3.0->spacy) (0.1.2)\n",
            "Collecting it-core-news-sm==3.8.0\n",
            "  Downloading https://github.com/explosion/spacy-models/releases/download/it_core_news_sm-3.8.0/it_core_news_sm-3.8.0-py3-none-any.whl (13.0 MB)\n",
            "\u001b[2K     \u001b[90m━━━━━━━━━━━━━━━━━━━━━━━━━━━━━━━━━━━━━━━━\u001b[0m \u001b[32m13.0/13.0 MB\u001b[0m \u001b[31m27.3 MB/s\u001b[0m eta \u001b[36m0:00:00\u001b[0m\n",
            "\u001b[?25hInstalling collected packages: it-core-news-sm\n",
            "Successfully installed it-core-news-sm-3.8.0\n",
            "\u001b[38;5;2m✔ Download and installation successful\u001b[0m\n",
            "You can now load the package via spacy.load('it_core_news_sm')\n",
            "\u001b[38;5;3m⚠ Restart to reload dependencies\u001b[0m\n",
            "If you are in a Jupyter or Colab notebook, you may need to restart Python in\n",
            "order to load all the package's dependencies. You can do this by selecting the\n",
            "'Restart kernel' or 'Restart runtime' option.\n"
          ]
        }
      ],
      "source": [
        "!pip install -U spacy\n",
        "!python -m spacy download it_core_news_sm"
      ]
    },
    {
      "cell_type": "markdown",
      "source": [
        "ℹ️ Cos'è 'it_core_news_sm'?\n",
        "\n",
        "È un pacchetto pre-addestrato specifico per la lingua italiana, e contiene:\n",
        "- regole per la tokenizzazione (divisione in parole/punteggiatura)\n",
        "- dizionari per la lemmatizzazione (riconoscere la forma base delle parole)\n",
        "- modelli statistici per il POS tagging (Part-of-Speech = categoria grammaticale)\n",
        "- strumenti per il parsing e NER (Named Entity Recognition)\n",
        "\n",
        "Il nome è formato da:\n",
        "  - 'it'           = lingua italiana\n",
        "  - 'core'         = libreria principale spaCy (non commerciale)\n",
        "  - 'news'         = addestrato su un corpus di notizie\n",
        "  - 'sm' (small)   = versione leggera (più veloce, ma meno precisa rispetto a 'md' o 'lg')\n",
        "\n",
        "spaCy distribuisce i modelli ufficiali da questo repository:\n",
        "https://github.com/explosion/spacy-models\n"
      ],
      "metadata": {
        "id": "2E4smgRMHcRE"
      }
    },
    {
      "cell_type": "code",
      "source": [
        "# 📥 2. Caricamento del modello linguistico italiano\n",
        "\n",
        "# Dopo aver installato il modello, dobbiamo \"caricarlo\" in memoria usando spacy.load().\n",
        "# Questo comando restituisce un oggetto NLP che possiamo usare per processare i testi.\n",
        "nlp_it = spacy.load(\"it_core_news_sm\")\n",
        "\n"
      ],
      "metadata": {
        "id": "_WAfTvplD3FT"
      },
      "execution_count": 1,
      "outputs": []
    },
    {
      "cell_type": "markdown",
      "source": [
        "Iniziamo con il codice"
      ],
      "metadata": {
        "id": "EhhtQccnD4hM"
      }
    },
    {
      "cell_type": "markdown",
      "source": [
        "##📌 1. TOKENIZATION — Suddividere il testo in unità minime (token)"
      ],
      "metadata": {
        "id": "UNga14aFIYKL"
      }
    },
    {
      "cell_type": "code",
      "source": [
        "# Definiamo una frase in italiano da analizzare con spaCy.\n",
        "# Passiamo questa frase al modello linguistico 'nlp_it': il testo viene trasformato in un oggetto 'doc',\n",
        "# che contiene tutte le informazioni linguistiche estratte automaticamente (token, lemmi, POS, ecc.).\n",
        "\n",
        "# Tokenizzazione: spaCy divide il testo in unità minime chiamate 'token', che includono parole,\n",
        "# punteggiatura e simboli. Ogni token è un oggetto con proprietà linguistiche (come lemma, categoria, dipendenze).\n"
      ],
      "metadata": {
        "id": "j8ckZ4wBJPkG"
      },
      "execution_count": null,
      "outputs": []
    },
    {
      "cell_type": "code",
      "source": [
        "# Frase di esempio\n",
        "text = \"Il gatto salta sul tavolo e beve il latte.\"\n",
        "\n",
        "# Applichiamo il modello\n",
        "doc = nlp_it(text)\n",
        "\n",
        "# Tokenizzazione: ogni parola e punteggiatura è un token\n",
        "print(\"📍Tokenizzazione:\")\n",
        "print([token.text for token in doc])\n"
      ],
      "metadata": {
        "colab": {
          "base_uri": "https://localhost:8080/"
        },
        "id": "m1q_BqQDED_1",
        "outputId": "923e8aaa-a872-4528-96bf-43925c9d0d37"
      },
      "execution_count": 3,
      "outputs": [
        {
          "output_type": "stream",
          "name": "stdout",
          "text": [
            "📍Tokenizzazione:\n",
            "['Il', 'gatto', 'salta', 'sul', 'tavolo', 'e', 'beve', 'il', 'latte', '.']\n"
          ]
        }
      ]
    },
    {
      "cell_type": "markdown",
      "source": [
        "🔍 Come vedere tutte le proprietà di un token"
      ],
      "metadata": {
        "id": "FRcw5uD1JqS2"
      }
    },
    {
      "cell_type": "code",
      "source": [
        "#Ora prendiamo un singolo token, ad esempio il primo:\n",
        "token = doc[0]\n",
        "#Per vedere tutte le proprietà disponibili, puoi usare:\n",
        "dir(token)\n"
      ],
      "metadata": {
        "colab": {
          "base_uri": "https://localhost:8080/"
        },
        "collapsed": true,
        "id": "wh95DQ_KJrqM",
        "outputId": "d38be698-2568-406d-c65c-f5bd829c5b5a"
      },
      "execution_count": 4,
      "outputs": [
        {
          "output_type": "execute_result",
          "data": {
            "text/plain": [
              "['_',\n",
              " '__bytes__',\n",
              " '__class__',\n",
              " '__delattr__',\n",
              " '__dir__',\n",
              " '__doc__',\n",
              " '__eq__',\n",
              " '__format__',\n",
              " '__ge__',\n",
              " '__getattribute__',\n",
              " '__getstate__',\n",
              " '__gt__',\n",
              " '__hash__',\n",
              " '__init__',\n",
              " '__init_subclass__',\n",
              " '__le__',\n",
              " '__len__',\n",
              " '__lt__',\n",
              " '__ne__',\n",
              " '__new__',\n",
              " '__pyx_vtable__',\n",
              " '__reduce__',\n",
              " '__reduce_ex__',\n",
              " '__repr__',\n",
              " '__setattr__',\n",
              " '__sizeof__',\n",
              " '__str__',\n",
              " '__subclasshook__',\n",
              " '__unicode__',\n",
              " 'ancestors',\n",
              " 'check_flag',\n",
              " 'children',\n",
              " 'cluster',\n",
              " 'conjuncts',\n",
              " 'dep',\n",
              " 'dep_',\n",
              " 'doc',\n",
              " 'ent_id',\n",
              " 'ent_id_',\n",
              " 'ent_iob',\n",
              " 'ent_iob_',\n",
              " 'ent_kb_id',\n",
              " 'ent_kb_id_',\n",
              " 'ent_type',\n",
              " 'ent_type_',\n",
              " 'get_extension',\n",
              " 'has_dep',\n",
              " 'has_extension',\n",
              " 'has_head',\n",
              " 'has_morph',\n",
              " 'has_vector',\n",
              " 'head',\n",
              " 'i',\n",
              " 'idx',\n",
              " 'iob_strings',\n",
              " 'is_alpha',\n",
              " 'is_ancestor',\n",
              " 'is_ascii',\n",
              " 'is_bracket',\n",
              " 'is_currency',\n",
              " 'is_digit',\n",
              " 'is_left_punct',\n",
              " 'is_lower',\n",
              " 'is_oov',\n",
              " 'is_punct',\n",
              " 'is_quote',\n",
              " 'is_right_punct',\n",
              " 'is_sent_end',\n",
              " 'is_sent_start',\n",
              " 'is_space',\n",
              " 'is_stop',\n",
              " 'is_title',\n",
              " 'is_upper',\n",
              " 'lang',\n",
              " 'lang_',\n",
              " 'left_edge',\n",
              " 'lefts',\n",
              " 'lemma',\n",
              " 'lemma_',\n",
              " 'lex',\n",
              " 'lex_id',\n",
              " 'like_email',\n",
              " 'like_num',\n",
              " 'like_url',\n",
              " 'lower',\n",
              " 'lower_',\n",
              " 'morph',\n",
              " 'n_lefts',\n",
              " 'n_rights',\n",
              " 'nbor',\n",
              " 'norm',\n",
              " 'norm_',\n",
              " 'orth',\n",
              " 'orth_',\n",
              " 'pos',\n",
              " 'pos_',\n",
              " 'prefix',\n",
              " 'prefix_',\n",
              " 'prob',\n",
              " 'rank',\n",
              " 'remove_extension',\n",
              " 'right_edge',\n",
              " 'rights',\n",
              " 'sent',\n",
              " 'sent_start',\n",
              " 'sentiment',\n",
              " 'set_extension',\n",
              " 'set_morph',\n",
              " 'shape',\n",
              " 'shape_',\n",
              " 'similarity',\n",
              " 'subtree',\n",
              " 'suffix',\n",
              " 'suffix_',\n",
              " 'tag',\n",
              " 'tag_',\n",
              " 'tensor',\n",
              " 'text',\n",
              " 'text_with_ws',\n",
              " 'vector',\n",
              " 'vector_norm',\n",
              " 'vocab',\n",
              " 'whitespace_']"
            ]
          },
          "metadata": {},
          "execution_count": 4
        }
      ]
    },
    {
      "cell_type": "code",
      "source": [
        "token = doc[2]  # \"salta\"\n",
        "\n",
        "print(f\"text:     {token.text}\")        # Il testo originale\n",
        "print(f\"lemma:    {token.lemma_}\")      # Forma base\n",
        "print(f\"pos:      {token.pos_}\")        # Parte del discorso\n",
        "print(f\"tag:      {token.tag_}\")        # Etichetta grammaticale dettagliata\n",
        "print(f\"dep:      {token.dep_}\")        # Relazione sintattica\n",
        "print(f\"head:     {token.head.text}\")   # La parola a cui è collegato\n",
        "print(f\"is_stop:  {token.is_stop}\")     # È una stop word?\n",
        "print(f\"is_alpha: {token.is_alpha}\")    # È composta solo da lettere?\n",
        "print(f\"shape:    {token.shape_}\")      # Forma del token (es. \"Xxxxx\", \"xxx\", ecc.)\n"
      ],
      "metadata": {
        "colab": {
          "base_uri": "https://localhost:8080/"
        },
        "id": "l0hoj3EsKAgr",
        "outputId": "3aa72214-009f-4962-970b-80cba81b880c"
      },
      "execution_count": 5,
      "outputs": [
        {
          "output_type": "stream",
          "name": "stdout",
          "text": [
            "text:     salta\n",
            "lemma:    saltare\n",
            "pos:      VERB\n",
            "tag:      V\n",
            "dep:      ROOT\n",
            "head:     salta\n",
            "is_stop:  False\n",
            "is_alpha: True\n",
            "shape:    xxxx\n"
          ]
        }
      ]
    },
    {
      "cell_type": "markdown",
      "source": [
        "## 📋 Riassunto delle proprietà principali di un Token in spaCy\n",
        "\n",
        "| **Proprietà** | **Come si usa (`token.`)** | **A cosa serve (spiegazione pratica)** |\n",
        "|---------------|----------------------------|----------------------------------------|\n",
        "| `text`        | `token.text`               | Il testo originale del token (es. `\"gatto\"`) |\n",
        "| `lemma_`      | `token.lemma_`             | Forma base della parola (es. `\"essere\"` per `\"è\"`) |\n",
        "| `pos_`        | `token.pos_`               | Parte del discorso (es. `NOUN`, `VERB`, `ADJ`) |\n",
        "| `tag_`        | `token.tag_`               | Etichetta grammaticale dettagliata     |\n",
        "| `dep_`        | `token.dep_`               | Tipo di relazione sintattica (es. `nsubj` = soggetto) |\n",
        "| `head`        | `token.head.text`          | La parola a cui il token è collegato sintatticamente |\n",
        "| `is_stop`     | `token.is_stop`            | `True` se è una stop word (es. \"il\", \"e\", \"di\") |\n",
        "| `is_alpha`    | `token.is_alpha`           | `True` se contiene solo lettere        |\n",
        "| `is_punct`    | `token.is_punct`           | `True` se è un segno di punteggiatura  |\n",
        "| `shape_`      | `token.shape_`             | Struttura del token (es. `\"Xxxx\"`, `\"xx\"`) |\n",
        "| `like_num`    | `token.like_num`           | `True` se il token rappresenta un numero |\n",
        "| `idx`         | `token.idx`                | Posizione iniziale del token nel testo originale |\n"
      ],
      "metadata": {
        "id": "HgS0fNyoLr6J"
      }
    },
    {
      "cell_type": "markdown",
      "source": [
        "#Ambiguità"
      ],
      "metadata": {
        "id": "D680qLU8OVsw"
      }
    },
    {
      "cell_type": "markdown",
      "source": [
        "🔎 Esempio 1 — “Roma” come squadra di calcio (organizzazione)"
      ],
      "metadata": {
        "id": "RhsmhBOTOc_8"
      }
    },
    {
      "cell_type": "code",
      "source": [
        "text1 = \"La Roma ha vinto la partita contro il Milan.\"\n",
        "doc1 = nlp_it(text1)\n",
        "\n",
        "print(\"📍Entità riconosciute:\")\n",
        "for ent in doc1.ents:\n",
        "    print(f\"{ent.text:20} ➜ {ent.label_}\")\n"
      ],
      "metadata": {
        "colab": {
          "base_uri": "https://localhost:8080/"
        },
        "id": "xsr_g7VSL4O0",
        "outputId": "1da5cd8d-63ba-47c2-e44f-b4d3cd986dc0"
      },
      "execution_count": 6,
      "outputs": [
        {
          "output_type": "stream",
          "name": "stdout",
          "text": [
            "📍Entità riconosciute:\n",
            "Roma                 ➜ ORG\n",
            "Milan                ➜ ORG\n"
          ]
        }
      ]
    },
    {
      "cell_type": "markdown",
      "source": [
        "Cosa ci aspettiamo:\n",
        "\n",
        "- `Roma` → `ORGANIZZAZIONE` (squadra di calcio)\n",
        "\n",
        "- `Milan` → `ORGANIZZAZIONE` (idem)"
      ],
      "metadata": {
        "id": "oW8ewk2AOgDJ"
      }
    },
    {
      "cell_type": "markdown",
      "source": [
        "🔎 Esempio 2 — “Roma” come città (luogo)"
      ],
      "metadata": {
        "id": "lpWK5n-bOmN1"
      }
    },
    {
      "cell_type": "code",
      "source": [
        "text2 = \"Sono tornato da Roma ieri sera, era bellissima.\"\n",
        "doc2 = nlp_it(text2)\n",
        "\n",
        "print(\"📍Entità riconosciute:\")\n",
        "for ent in doc2.ents:\n",
        "    print(f\"{ent.text:20} ➜ {ent.label_}\")\n"
      ],
      "metadata": {
        "colab": {
          "base_uri": "https://localhost:8080/"
        },
        "id": "Phaz7rzcOljq",
        "outputId": "0d19fc7f-b2f0-4017-fc19-ccbe03cb6a0c"
      },
      "execution_count": 7,
      "outputs": [
        {
          "output_type": "stream",
          "name": "stdout",
          "text": [
            "📍Entità riconosciute:\n",
            "Roma                 ➜ LOC\n"
          ]
        }
      ]
    },
    {
      "cell_type": "markdown",
      "source": [
        "Cosa ci aspettiamo:\n",
        "\n",
        "- `Roma` → `LOCALITÀ` (città)\n",
        "\n",
        "- magari anche `ieri sera` → `DATA` (tempo)"
      ],
      "metadata": {
        "id": "HLur1JdLOpMV"
      }
    },
    {
      "cell_type": "markdown",
      "source": [
        "##📌 2. POS TAGGING — Etichettare la categoria grammaticale (Part-of-Speech)"
      ],
      "metadata": {
        "id": "BgEEjApYPiJE"
      }
    },
    {
      "cell_type": "markdown",
      "source": [
        "Il **POS Tagging** (Part-of-Speech Tagging) è il processo con cui ogni parola del testo viene classificata\n",
        "secondo la sua **categoria grammaticale**, come **nome (NOUN)**, **verbo (VERB)**, **aggettivo (ADJ)**, ecc.\n",
        "\n",
        "In spaCy, dopo aver processato il testo con il modello NLP (`nlp_it(text)`), ogni token possiede\n",
        "un attributo chiamato `pos_` che rappresenta la sua categoria grammaticale principale.\n",
        "\n",
        "Nel codice qui sotto, stampiamo per ogni token il suo testo e la relativa etichetta grammaticale:\n",
        "\n",
        "```python\n",
        "print(\"📍POS tagging (categoria grammaticale):\")\n",
        "for token in doc:\n",
        "    print(f\"{token.text:15} ➜ {token.pos_}\")\n"
      ],
      "metadata": {
        "id": "oGR8eb2oP-1Z"
      }
    },
    {
      "cell_type": "code",
      "source": [
        "print(\"📍POS tagging (categoria grammaticale):\")\n",
        "for token in doc:\n",
        "    print(f\"{token.text:15} ➜ {token.pos_}\")\n"
      ],
      "metadata": {
        "colab": {
          "base_uri": "https://localhost:8080/"
        },
        "id": "6MsuHAEwPviq",
        "outputId": "88073e76-5f47-4dc3-e34a-b52bd21d67c3"
      },
      "execution_count": 8,
      "outputs": [
        {
          "output_type": "stream",
          "name": "stdout",
          "text": [
            "📍POS tagging (categoria grammaticale):\n",
            "Il              ➜ DET\n",
            "gatto           ➜ NOUN\n",
            "salta           ➜ VERB\n",
            "sul             ➜ ADP\n",
            "tavolo          ➜ NOUN\n",
            "e               ➜ CCONJ\n",
            "beve            ➜ VERB\n",
            "il              ➜ DET\n",
            "latte           ➜ NOUN\n",
            ".               ➜ PUNCT\n"
          ]
        }
      ]
    },
    {
      "cell_type": "markdown",
      "source": [
        "## 📌 3. NER — Named Entity Recognition (Riconoscimento delle Entità Nominate)\n",
        "\n",
        "La **Named Entity Recognition (NER)** è una tecnica del NLP che permette di identificare e classificare automaticamente\n",
        "le **entità importanti** all’interno di un testo, come:\n",
        "\n",
        "- 👤 Persone (`PER`)\n",
        "- 🏢 Organizzazioni (`ORG`)\n",
        "- 🌍 Luoghi o località (`LOC`)\n",
        "- 📅 Date, orari, periodi (`DATE`, `TIME`)\n",
        "- 💸 Quantità, percentuali, valute (`MONEY`, `PERCENT`, ecc.)\n",
        "\n",
        "In spaCy, le entità vengono estratte dopo aver analizzato il testo con il modello NLP. Ogni entità ha:\n",
        "- `ent.text` → il testo dell’entità individuata\n",
        "- `ent.label_` → il tipo di entità (etichetta semantica)\n",
        "\n",
        "Ecco il codice per stampare tutte le entità trovate:\n",
        "\n",
        "```python\n",
        "print(\"📍Named Entity Recognition:\")\n",
        "for ent in doc.ents:\n",
        "    print(f\"{ent.text:20} ➜ {ent.label_}\")\n"
      ],
      "metadata": {
        "id": "tb4jyq4BQZJ2"
      }
    },
    {
      "cell_type": "code",
      "source": [
        "print(\"📍Named Entity Recognition:\")\n",
        "for ent in doc.ents:\n",
        "    print(f\"{ent.text:20} ➜ {ent.label_}\")"
      ],
      "metadata": {
        "colab": {
          "base_uri": "https://localhost:8080/"
        },
        "id": "kevnNTH_QdqD",
        "outputId": "32b1d170-a512-4a1e-9e77-4fda73aab7e1"
      },
      "execution_count": 9,
      "outputs": [
        {
          "output_type": "stream",
          "name": "stdout",
          "text": [
            "📍Named Entity Recognition:\n"
          ]
        }
      ]
    },
    {
      "cell_type": "code",
      "source": [
        "# Frase complessa con diverse entità\n",
        "text = \"Lunedì 13 marzo 2023, Maria Rossi ha presentato il progetto di Apple durante una conferenza a Milano.\"\n",
        "\n",
        "# Analisi con spaCy\n",
        "doc = nlp_it(text)\n",
        "\n",
        "# Stampa entità trovate\n",
        "print(\"📍Entità riconosciute:\")\n",
        "for ent in doc.ents:\n",
        "    print(f\"{ent.text:25} ➜ {ent.label_}\")\n",
        "\n",
        "# Visualizzazione grafica con displacy\n",
        "from spacy import displacy\n",
        "displacy.render(doc, style=\"ent\", jupyter=True)\n"
      ],
      "metadata": {
        "colab": {
          "base_uri": "https://localhost:8080/",
          "height": 156
        },
        "id": "AXPbLdhpRhwr",
        "outputId": "21e2987e-5b4d-4d9c-9eac-35698a4fff9c"
      },
      "execution_count": 10,
      "outputs": [
        {
          "output_type": "stream",
          "name": "stdout",
          "text": [
            "📍Entità riconosciute:\n",
            "Maria Rossi               ➜ PER\n",
            "Apple                     ➜ ORG\n",
            "Milano                    ➜ LOC\n"
          ]
        },
        {
          "output_type": "display_data",
          "data": {
            "text/plain": [
              "<IPython.core.display.HTML object>"
            ],
            "text/html": [
              "<span class=\"tex2jax_ignore\"><div class=\"entities\" style=\"line-height: 2.5; direction: ltr\">Lunedì 13 marzo 2023, \n",
              "<mark class=\"entity\" style=\"background: #ddd; padding: 0.45em 0.6em; margin: 0 0.25em; line-height: 1; border-radius: 0.35em;\">\n",
              "    Maria Rossi\n",
              "    <span style=\"font-size: 0.8em; font-weight: bold; line-height: 1; border-radius: 0.35em; vertical-align: middle; margin-left: 0.5rem\">PER</span>\n",
              "</mark>\n",
              " ha presentato il progetto di \n",
              "<mark class=\"entity\" style=\"background: #7aecec; padding: 0.45em 0.6em; margin: 0 0.25em; line-height: 1; border-radius: 0.35em;\">\n",
              "    Apple\n",
              "    <span style=\"font-size: 0.8em; font-weight: bold; line-height: 1; border-radius: 0.35em; vertical-align: middle; margin-left: 0.5rem\">ORG</span>\n",
              "</mark>\n",
              " durante una conferenza a \n",
              "<mark class=\"entity\" style=\"background: #ff9561; padding: 0.45em 0.6em; margin: 0 0.25em; line-height: 1; border-radius: 0.35em;\">\n",
              "    Milano\n",
              "    <span style=\"font-size: 0.8em; font-weight: bold; line-height: 1; border-radius: 0.35em; vertical-align: middle; margin-left: 0.5rem\">LOC</span>\n",
              "</mark>\n",
              ".</div></span>"
            ]
          },
          "metadata": {}
        }
      ]
    },
    {
      "cell_type": "markdown",
      "source": [
        "### 🎯 Esempio pratico: Named Entity Recognition su una frase complessa\n",
        "\n",
        "In questo esempio analizziamo una frase che contiene **diverse entità nominate**:\n",
        "\n",
        "📌 \"Lunedì 13 marzo 2023, Maria Rossi ha presentato il progetto di Apple durante una conferenza a Milano.\"\n",
        "\n",
        "Il modello spaCy è in grado di riconoscere:\n",
        "- `Maria Rossi` → **Persona** (`PER`)\n",
        "- `Apple` → **Organizzazione** (`ORG`)\n",
        "- `Milano` → **Località** (`LOC`)\n",
        "- `Lunedì 13 marzo 2023` → **Data** (`DATE`)\n",
        "\n",
        "Questo tipo di analisi è utile per:\n",
        "- 🔍 Estrarre informazioni chiave da documenti e articoli\n",
        "- 📚 Disambiguare termini ambigui (es. “Roma” come squadra o città)\n",
        "- 🤖 Alimentare chatbot, motori di ricerca, sistemi di risposta automatica\n",
        "- 🧠 Costruire **grafi semantici** che connettano persone, luoghi, date ed eventi\n",
        "\n",
        "➡️ La visualizzazione sotto evidenzia le entità direttamente nel testo, con colori diversi per ogni tipo.\n",
        "\n",
        "> ⚠️ Ricorda: il modello `it_core_news_sm` è leggero, quindi può perdere qualche entità in testi più complessi. Modelli più grandi (`md`, `lg`) migliorano l'accuratezza.\n"
      ],
      "metadata": {
        "id": "xXwVPiB4RrH4"
      }
    },
    {
      "cell_type": "markdown",
      "source": [
        "## 📌 4. Lemmatization — Forma base della parola\n",
        "\n",
        "La **lemmatizzazione** è il processo con cui ogni parola viene ricondotta alla sua **forma base** o **lemma**.\n",
        "\n",
        "📍 Esempi:\n",
        "- `\"correvano\"` → `\"correre\"` (verbo all’infinito)\n",
        "- `\"ragazzi\"` → `\"ragazzo\"` (nome singolare)\n",
        "- `\"velocemente\"` → `\"veloce\"` (avverbio riconvertito all’aggettivo base)\n",
        "\n",
        "In spaCy, ogni token ha un attributo `.lemma_` che restituisce il lemma corrispondente.\n",
        "\n",
        "### ✅ Codice\n",
        "```python\n",
        "for token in doc:\n",
        "    print(f\"{token.text:15} ➜ lemma: {token.lemma_}\")\n"
      ],
      "metadata": {
        "id": "kUet4hN1PkTt"
      }
    },
    {
      "cell_type": "code",
      "source": [
        "# Frase di esempio\n",
        "text = \"I ragazzi correvano velocemente verso la stazione.\"\n",
        "\n",
        "# Analizza la frase\n",
        "doc = nlp_it(text)\n",
        "\n",
        "# Lemmatizzazione: forma base delle parole\n",
        "print(\"📍Lemmatizzazione:\")\n",
        "for token in doc:\n",
        "    print(f\"{token.text:15} ➜ lemma: {token.lemma_:15} | POS: {token.pos_}\")\n"
      ],
      "metadata": {
        "colab": {
          "base_uri": "https://localhost:8080/"
        },
        "id": "8QNZ28vOWhRv",
        "outputId": "c4c9cdc9-b251-4065-8280-a9d8ff3052e6"
      },
      "execution_count": 13,
      "outputs": [
        {
          "output_type": "stream",
          "name": "stdout",
          "text": [
            "📍Lemmatizzazione:\n",
            "I               ➜ lemma: il              | POS: DET\n",
            "ragazzi         ➜ lemma: ragazzo         | POS: NOUN\n",
            "correvano       ➜ lemma: correvare       | POS: VERB\n",
            "velocemente     ➜ lemma: velocemente     | POS: ADV\n",
            "verso           ➜ lemma: verso           | POS: ADP\n",
            "la              ➜ lemma: il              | POS: DET\n",
            "stazione        ➜ lemma: stazione        | POS: NOUN\n",
            ".               ➜ lemma: .               | POS: PUNCT\n"
          ]
        }
      ]
    },
    {
      "cell_type": "markdown",
      "source": [
        "## 📌 5. Dependency Parsing — Relazioni sintattiche tra parole\n",
        "\n",
        "Il **Dependency Parsing** è il processo con cui spaCy analizza la **struttura sintattica** di una frase,\n",
        "identificando **come ogni parola dipende da un'altra** grammaticalmente.\n",
        "\n",
        "Ogni parola (token) ha:\n",
        "- `dep_` → tipo di relazione sintattica con la parola a cui è legata\n",
        "- `head` → parola \"governante\" (cioè la parola da cui dipende)\n",
        "\n",
        "### 🧠 Esempio:\n",
        "Frase: `\"Giulia ha scritto una lettera al suo migliore amico.\"`\n",
        "\n",
        "| Parola         | Dipendenza (`dep_`) | Testa grammaticale (`head.text`)        |\n",
        "|----------------|---------------------|-----------------------------------------|\n",
        "| `Giulia`       | `nsubj`             | `scritto` (soggetto del verbo)          |\n",
        "| `ha`           | `aux`               | `scritto` (ausiliare del verbo)         |\n",
        "| `scritto`      | `ROOT`              | — (verbo principale, radice della frase)|\n",
        "| `lettera`      | `obj`               | `scritto` (oggetto del verbo)           |\n",
        "| `una`          | `det`               | `lettera` (articolo determinativo)      |\n",
        "| `amico`        | `obl`               | `scritto` (complemento indiretto)       |\n",
        "| `al`           | `case`              | `amico` (preposizione \"a\")              |\n",
        "| `suo`          | `det`               | `amico` (aggettivo possessivo)          |\n",
        "| `migliore`     | `amod`              | `amico` (aggettivo qualificativo)       |\n",
        "\n",
        "### 🧩 A cosa serve questa analisi:\n",
        "- Capire chi fa cosa (es. soggetto, oggetto, complemento)\n",
        "- Costruire **grafi grammaticali** o **parser semantici**\n",
        "- Potenziare chatbot, motori di risposta, ricerca avanzata\n",
        "\n",
        "> 📈 La visualizzazione `displacy.render(doc, style=\"dep\")` mostra graficamente queste relazioni con **archi sopra la frase**.\n",
        "\n"
      ],
      "metadata": {
        "id": "NoBCQGtdT6IT"
      }
    },
    {
      "cell_type": "code",
      "source": [
        "displacy.render(doc, style=\"dep\", jupyter=True)\n"
      ],
      "metadata": {
        "colab": {
          "base_uri": "https://localhost:8080/",
          "height": 441
        },
        "id": "3AwLUAQvTI-r",
        "outputId": "fd629faf-1a1c-4aff-8a71-2b3188581fa3"
      },
      "execution_count": 11,
      "outputs": [
        {
          "output_type": "display_data",
          "data": {
            "text/plain": [
              "<IPython.core.display.HTML object>"
            ],
            "text/html": [
              "<span class=\"tex2jax_ignore\"><svg xmlns=\"http://www.w3.org/2000/svg\" xmlns:xlink=\"http://www.w3.org/1999/xlink\" xml:lang=\"it\" id=\"9d2ae1e11ebf4c228eef052a9a607b8e-0\" class=\"displacy\" width=\"3025\" height=\"399.5\" direction=\"ltr\" style=\"max-width: none; height: 399.5px; color: #000000; background: #ffffff; font-family: Arial; direction: ltr\">\n",
              "<text class=\"displacy-token\" fill=\"currentColor\" text-anchor=\"middle\" y=\"309.5\">\n",
              "    <tspan class=\"displacy-word\" fill=\"currentColor\" x=\"50\">Lunedì</tspan>\n",
              "    <tspan class=\"displacy-tag\" dy=\"2em\" fill=\"currentColor\" x=\"50\">NOUN</tspan>\n",
              "</text>\n",
              "\n",
              "<text class=\"displacy-token\" fill=\"currentColor\" text-anchor=\"middle\" y=\"309.5\">\n",
              "    <tspan class=\"displacy-word\" fill=\"currentColor\" x=\"225\">13</tspan>\n",
              "    <tspan class=\"displacy-tag\" dy=\"2em\" fill=\"currentColor\" x=\"225\">NUM</tspan>\n",
              "</text>\n",
              "\n",
              "<text class=\"displacy-token\" fill=\"currentColor\" text-anchor=\"middle\" y=\"309.5\">\n",
              "    <tspan class=\"displacy-word\" fill=\"currentColor\" x=\"400\">marzo</tspan>\n",
              "    <tspan class=\"displacy-tag\" dy=\"2em\" fill=\"currentColor\" x=\"400\">NOUN</tspan>\n",
              "</text>\n",
              "\n",
              "<text class=\"displacy-token\" fill=\"currentColor\" text-anchor=\"middle\" y=\"309.5\">\n",
              "    <tspan class=\"displacy-word\" fill=\"currentColor\" x=\"575\">2023,</tspan>\n",
              "    <tspan class=\"displacy-tag\" dy=\"2em\" fill=\"currentColor\" x=\"575\">NUM</tspan>\n",
              "</text>\n",
              "\n",
              "<text class=\"displacy-token\" fill=\"currentColor\" text-anchor=\"middle\" y=\"309.5\">\n",
              "    <tspan class=\"displacy-word\" fill=\"currentColor\" x=\"750\">Maria</tspan>\n",
              "    <tspan class=\"displacy-tag\" dy=\"2em\" fill=\"currentColor\" x=\"750\">PROPN</tspan>\n",
              "</text>\n",
              "\n",
              "<text class=\"displacy-token\" fill=\"currentColor\" text-anchor=\"middle\" y=\"309.5\">\n",
              "    <tspan class=\"displacy-word\" fill=\"currentColor\" x=\"925\">Rossi</tspan>\n",
              "    <tspan class=\"displacy-tag\" dy=\"2em\" fill=\"currentColor\" x=\"925\">PROPN</tspan>\n",
              "</text>\n",
              "\n",
              "<text class=\"displacy-token\" fill=\"currentColor\" text-anchor=\"middle\" y=\"309.5\">\n",
              "    <tspan class=\"displacy-word\" fill=\"currentColor\" x=\"1100\">ha</tspan>\n",
              "    <tspan class=\"displacy-tag\" dy=\"2em\" fill=\"currentColor\" x=\"1100\">AUX</tspan>\n",
              "</text>\n",
              "\n",
              "<text class=\"displacy-token\" fill=\"currentColor\" text-anchor=\"middle\" y=\"309.5\">\n",
              "    <tspan class=\"displacy-word\" fill=\"currentColor\" x=\"1275\">presentato</tspan>\n",
              "    <tspan class=\"displacy-tag\" dy=\"2em\" fill=\"currentColor\" x=\"1275\">VERB</tspan>\n",
              "</text>\n",
              "\n",
              "<text class=\"displacy-token\" fill=\"currentColor\" text-anchor=\"middle\" y=\"309.5\">\n",
              "    <tspan class=\"displacy-word\" fill=\"currentColor\" x=\"1450\">il</tspan>\n",
              "    <tspan class=\"displacy-tag\" dy=\"2em\" fill=\"currentColor\" x=\"1450\">DET</tspan>\n",
              "</text>\n",
              "\n",
              "<text class=\"displacy-token\" fill=\"currentColor\" text-anchor=\"middle\" y=\"309.5\">\n",
              "    <tspan class=\"displacy-word\" fill=\"currentColor\" x=\"1625\">progetto</tspan>\n",
              "    <tspan class=\"displacy-tag\" dy=\"2em\" fill=\"currentColor\" x=\"1625\">NOUN</tspan>\n",
              "</text>\n",
              "\n",
              "<text class=\"displacy-token\" fill=\"currentColor\" text-anchor=\"middle\" y=\"309.5\">\n",
              "    <tspan class=\"displacy-word\" fill=\"currentColor\" x=\"1800\">di</tspan>\n",
              "    <tspan class=\"displacy-tag\" dy=\"2em\" fill=\"currentColor\" x=\"1800\">ADP</tspan>\n",
              "</text>\n",
              "\n",
              "<text class=\"displacy-token\" fill=\"currentColor\" text-anchor=\"middle\" y=\"309.5\">\n",
              "    <tspan class=\"displacy-word\" fill=\"currentColor\" x=\"1975\">Apple</tspan>\n",
              "    <tspan class=\"displacy-tag\" dy=\"2em\" fill=\"currentColor\" x=\"1975\">PROPN</tspan>\n",
              "</text>\n",
              "\n",
              "<text class=\"displacy-token\" fill=\"currentColor\" text-anchor=\"middle\" y=\"309.5\">\n",
              "    <tspan class=\"displacy-word\" fill=\"currentColor\" x=\"2150\">durante</tspan>\n",
              "    <tspan class=\"displacy-tag\" dy=\"2em\" fill=\"currentColor\" x=\"2150\">ADP</tspan>\n",
              "</text>\n",
              "\n",
              "<text class=\"displacy-token\" fill=\"currentColor\" text-anchor=\"middle\" y=\"309.5\">\n",
              "    <tspan class=\"displacy-word\" fill=\"currentColor\" x=\"2325\">una</tspan>\n",
              "    <tspan class=\"displacy-tag\" dy=\"2em\" fill=\"currentColor\" x=\"2325\">DET</tspan>\n",
              "</text>\n",
              "\n",
              "<text class=\"displacy-token\" fill=\"currentColor\" text-anchor=\"middle\" y=\"309.5\">\n",
              "    <tspan class=\"displacy-word\" fill=\"currentColor\" x=\"2500\">conferenza</tspan>\n",
              "    <tspan class=\"displacy-tag\" dy=\"2em\" fill=\"currentColor\" x=\"2500\">NOUN</tspan>\n",
              "</text>\n",
              "\n",
              "<text class=\"displacy-token\" fill=\"currentColor\" text-anchor=\"middle\" y=\"309.5\">\n",
              "    <tspan class=\"displacy-word\" fill=\"currentColor\" x=\"2675\">a</tspan>\n",
              "    <tspan class=\"displacy-tag\" dy=\"2em\" fill=\"currentColor\" x=\"2675\">ADP</tspan>\n",
              "</text>\n",
              "\n",
              "<text class=\"displacy-token\" fill=\"currentColor\" text-anchor=\"middle\" y=\"309.5\">\n",
              "    <tspan class=\"displacy-word\" fill=\"currentColor\" x=\"2850\">Milano.</tspan>\n",
              "    <tspan class=\"displacy-tag\" dy=\"2em\" fill=\"currentColor\" x=\"2850\">PROPN</tspan>\n",
              "</text>\n",
              "\n",
              "<g class=\"displacy-arrow\">\n",
              "    <path class=\"displacy-arc\" id=\"arrow-9d2ae1e11ebf4c228eef052a9a607b8e-0-0\" stroke-width=\"2px\" d=\"M70,264.5 C70,2.0 1275.0,2.0 1275.0,264.5\" fill=\"none\" stroke=\"currentColor\"/>\n",
              "    <text dy=\"1.25em\" style=\"font-size: 0.8em; letter-spacing: 1px\">\n",
              "        <textPath xlink:href=\"#arrow-9d2ae1e11ebf4c228eef052a9a607b8e-0-0\" class=\"displacy-label\" startOffset=\"50%\" side=\"left\" fill=\"currentColor\" text-anchor=\"middle\">obl</textPath>\n",
              "    </text>\n",
              "    <path class=\"displacy-arrowhead\" d=\"M70,266.5 L62,254.5 78,254.5\" fill=\"currentColor\"/>\n",
              "</g>\n",
              "\n",
              "<g class=\"displacy-arrow\">\n",
              "    <path class=\"displacy-arc\" id=\"arrow-9d2ae1e11ebf4c228eef052a9a607b8e-0-1\" stroke-width=\"2px\" d=\"M70,264.5 C70,177.0 215.0,177.0 215.0,264.5\" fill=\"none\" stroke=\"currentColor\"/>\n",
              "    <text dy=\"1.25em\" style=\"font-size: 0.8em; letter-spacing: 1px\">\n",
              "        <textPath xlink:href=\"#arrow-9d2ae1e11ebf4c228eef052a9a607b8e-0-1\" class=\"displacy-label\" startOffset=\"50%\" side=\"left\" fill=\"currentColor\" text-anchor=\"middle\">nmod</textPath>\n",
              "    </text>\n",
              "    <path class=\"displacy-arrowhead\" d=\"M215.0,266.5 L223.0,254.5 207.0,254.5\" fill=\"currentColor\"/>\n",
              "</g>\n",
              "\n",
              "<g class=\"displacy-arrow\">\n",
              "    <path class=\"displacy-arc\" id=\"arrow-9d2ae1e11ebf4c228eef052a9a607b8e-0-2\" stroke-width=\"2px\" d=\"M245,264.5 C245,177.0 390.0,177.0 390.0,264.5\" fill=\"none\" stroke=\"currentColor\"/>\n",
              "    <text dy=\"1.25em\" style=\"font-size: 0.8em; letter-spacing: 1px\">\n",
              "        <textPath xlink:href=\"#arrow-9d2ae1e11ebf4c228eef052a9a607b8e-0-2\" class=\"displacy-label\" startOffset=\"50%\" side=\"left\" fill=\"currentColor\" text-anchor=\"middle\">flat</textPath>\n",
              "    </text>\n",
              "    <path class=\"displacy-arrowhead\" d=\"M390.0,266.5 L398.0,254.5 382.0,254.5\" fill=\"currentColor\"/>\n",
              "</g>\n",
              "\n",
              "<g class=\"displacy-arrow\">\n",
              "    <path class=\"displacy-arc\" id=\"arrow-9d2ae1e11ebf4c228eef052a9a607b8e-0-3\" stroke-width=\"2px\" d=\"M245,264.5 C245,89.5 570.0,89.5 570.0,264.5\" fill=\"none\" stroke=\"currentColor\"/>\n",
              "    <text dy=\"1.25em\" style=\"font-size: 0.8em; letter-spacing: 1px\">\n",
              "        <textPath xlink:href=\"#arrow-9d2ae1e11ebf4c228eef052a9a607b8e-0-3\" class=\"displacy-label\" startOffset=\"50%\" side=\"left\" fill=\"currentColor\" text-anchor=\"middle\">flat</textPath>\n",
              "    </text>\n",
              "    <path class=\"displacy-arrowhead\" d=\"M570.0,266.5 L578.0,254.5 562.0,254.5\" fill=\"currentColor\"/>\n",
              "</g>\n",
              "\n",
              "<g class=\"displacy-arrow\">\n",
              "    <path class=\"displacy-arc\" id=\"arrow-9d2ae1e11ebf4c228eef052a9a607b8e-0-4\" stroke-width=\"2px\" d=\"M770,264.5 C770,89.5 1270.0,89.5 1270.0,264.5\" fill=\"none\" stroke=\"currentColor\"/>\n",
              "    <text dy=\"1.25em\" style=\"font-size: 0.8em; letter-spacing: 1px\">\n",
              "        <textPath xlink:href=\"#arrow-9d2ae1e11ebf4c228eef052a9a607b8e-0-4\" class=\"displacy-label\" startOffset=\"50%\" side=\"left\" fill=\"currentColor\" text-anchor=\"middle\">nsubj</textPath>\n",
              "    </text>\n",
              "    <path class=\"displacy-arrowhead\" d=\"M770,266.5 L762,254.5 778,254.5\" fill=\"currentColor\"/>\n",
              "</g>\n",
              "\n",
              "<g class=\"displacy-arrow\">\n",
              "    <path class=\"displacy-arc\" id=\"arrow-9d2ae1e11ebf4c228eef052a9a607b8e-0-5\" stroke-width=\"2px\" d=\"M770,264.5 C770,177.0 915.0,177.0 915.0,264.5\" fill=\"none\" stroke=\"currentColor\"/>\n",
              "    <text dy=\"1.25em\" style=\"font-size: 0.8em; letter-spacing: 1px\">\n",
              "        <textPath xlink:href=\"#arrow-9d2ae1e11ebf4c228eef052a9a607b8e-0-5\" class=\"displacy-label\" startOffset=\"50%\" side=\"left\" fill=\"currentColor\" text-anchor=\"middle\">flat:name</textPath>\n",
              "    </text>\n",
              "    <path class=\"displacy-arrowhead\" d=\"M915.0,266.5 L923.0,254.5 907.0,254.5\" fill=\"currentColor\"/>\n",
              "</g>\n",
              "\n",
              "<g class=\"displacy-arrow\">\n",
              "    <path class=\"displacy-arc\" id=\"arrow-9d2ae1e11ebf4c228eef052a9a607b8e-0-6\" stroke-width=\"2px\" d=\"M1120,264.5 C1120,177.0 1265.0,177.0 1265.0,264.5\" fill=\"none\" stroke=\"currentColor\"/>\n",
              "    <text dy=\"1.25em\" style=\"font-size: 0.8em; letter-spacing: 1px\">\n",
              "        <textPath xlink:href=\"#arrow-9d2ae1e11ebf4c228eef052a9a607b8e-0-6\" class=\"displacy-label\" startOffset=\"50%\" side=\"left\" fill=\"currentColor\" text-anchor=\"middle\">aux</textPath>\n",
              "    </text>\n",
              "    <path class=\"displacy-arrowhead\" d=\"M1120,266.5 L1112,254.5 1128,254.5\" fill=\"currentColor\"/>\n",
              "</g>\n",
              "\n",
              "<g class=\"displacy-arrow\">\n",
              "    <path class=\"displacy-arc\" id=\"arrow-9d2ae1e11ebf4c228eef052a9a607b8e-0-7\" stroke-width=\"2px\" d=\"M1470,264.5 C1470,177.0 1615.0,177.0 1615.0,264.5\" fill=\"none\" stroke=\"currentColor\"/>\n",
              "    <text dy=\"1.25em\" style=\"font-size: 0.8em; letter-spacing: 1px\">\n",
              "        <textPath xlink:href=\"#arrow-9d2ae1e11ebf4c228eef052a9a607b8e-0-7\" class=\"displacy-label\" startOffset=\"50%\" side=\"left\" fill=\"currentColor\" text-anchor=\"middle\">det</textPath>\n",
              "    </text>\n",
              "    <path class=\"displacy-arrowhead\" d=\"M1470,266.5 L1462,254.5 1478,254.5\" fill=\"currentColor\"/>\n",
              "</g>\n",
              "\n",
              "<g class=\"displacy-arrow\">\n",
              "    <path class=\"displacy-arc\" id=\"arrow-9d2ae1e11ebf4c228eef052a9a607b8e-0-8\" stroke-width=\"2px\" d=\"M1295,264.5 C1295,89.5 1620.0,89.5 1620.0,264.5\" fill=\"none\" stroke=\"currentColor\"/>\n",
              "    <text dy=\"1.25em\" style=\"font-size: 0.8em; letter-spacing: 1px\">\n",
              "        <textPath xlink:href=\"#arrow-9d2ae1e11ebf4c228eef052a9a607b8e-0-8\" class=\"displacy-label\" startOffset=\"50%\" side=\"left\" fill=\"currentColor\" text-anchor=\"middle\">obj</textPath>\n",
              "    </text>\n",
              "    <path class=\"displacy-arrowhead\" d=\"M1620.0,266.5 L1628.0,254.5 1612.0,254.5\" fill=\"currentColor\"/>\n",
              "</g>\n",
              "\n",
              "<g class=\"displacy-arrow\">\n",
              "    <path class=\"displacy-arc\" id=\"arrow-9d2ae1e11ebf4c228eef052a9a607b8e-0-9\" stroke-width=\"2px\" d=\"M1820,264.5 C1820,177.0 1965.0,177.0 1965.0,264.5\" fill=\"none\" stroke=\"currentColor\"/>\n",
              "    <text dy=\"1.25em\" style=\"font-size: 0.8em; letter-spacing: 1px\">\n",
              "        <textPath xlink:href=\"#arrow-9d2ae1e11ebf4c228eef052a9a607b8e-0-9\" class=\"displacy-label\" startOffset=\"50%\" side=\"left\" fill=\"currentColor\" text-anchor=\"middle\">case</textPath>\n",
              "    </text>\n",
              "    <path class=\"displacy-arrowhead\" d=\"M1820,266.5 L1812,254.5 1828,254.5\" fill=\"currentColor\"/>\n",
              "</g>\n",
              "\n",
              "<g class=\"displacy-arrow\">\n",
              "    <path class=\"displacy-arc\" id=\"arrow-9d2ae1e11ebf4c228eef052a9a607b8e-0-10\" stroke-width=\"2px\" d=\"M1645,264.5 C1645,89.5 1970.0,89.5 1970.0,264.5\" fill=\"none\" stroke=\"currentColor\"/>\n",
              "    <text dy=\"1.25em\" style=\"font-size: 0.8em; letter-spacing: 1px\">\n",
              "        <textPath xlink:href=\"#arrow-9d2ae1e11ebf4c228eef052a9a607b8e-0-10\" class=\"displacy-label\" startOffset=\"50%\" side=\"left\" fill=\"currentColor\" text-anchor=\"middle\">nmod</textPath>\n",
              "    </text>\n",
              "    <path class=\"displacy-arrowhead\" d=\"M1970.0,266.5 L1978.0,254.5 1962.0,254.5\" fill=\"currentColor\"/>\n",
              "</g>\n",
              "\n",
              "<g class=\"displacy-arrow\">\n",
              "    <path class=\"displacy-arc\" id=\"arrow-9d2ae1e11ebf4c228eef052a9a607b8e-0-11\" stroke-width=\"2px\" d=\"M2170,264.5 C2170,89.5 2495.0,89.5 2495.0,264.5\" fill=\"none\" stroke=\"currentColor\"/>\n",
              "    <text dy=\"1.25em\" style=\"font-size: 0.8em; letter-spacing: 1px\">\n",
              "        <textPath xlink:href=\"#arrow-9d2ae1e11ebf4c228eef052a9a607b8e-0-11\" class=\"displacy-label\" startOffset=\"50%\" side=\"left\" fill=\"currentColor\" text-anchor=\"middle\">case</textPath>\n",
              "    </text>\n",
              "    <path class=\"displacy-arrowhead\" d=\"M2170,266.5 L2162,254.5 2178,254.5\" fill=\"currentColor\"/>\n",
              "</g>\n",
              "\n",
              "<g class=\"displacy-arrow\">\n",
              "    <path class=\"displacy-arc\" id=\"arrow-9d2ae1e11ebf4c228eef052a9a607b8e-0-12\" stroke-width=\"2px\" d=\"M2345,264.5 C2345,177.0 2490.0,177.0 2490.0,264.5\" fill=\"none\" stroke=\"currentColor\"/>\n",
              "    <text dy=\"1.25em\" style=\"font-size: 0.8em; letter-spacing: 1px\">\n",
              "        <textPath xlink:href=\"#arrow-9d2ae1e11ebf4c228eef052a9a607b8e-0-12\" class=\"displacy-label\" startOffset=\"50%\" side=\"left\" fill=\"currentColor\" text-anchor=\"middle\">det</textPath>\n",
              "    </text>\n",
              "    <path class=\"displacy-arrowhead\" d=\"M2345,266.5 L2337,254.5 2353,254.5\" fill=\"currentColor\"/>\n",
              "</g>\n",
              "\n",
              "<g class=\"displacy-arrow\">\n",
              "    <path class=\"displacy-arc\" id=\"arrow-9d2ae1e11ebf4c228eef052a9a607b8e-0-13\" stroke-width=\"2px\" d=\"M1295,264.5 C1295,2.0 2500.0,2.0 2500.0,264.5\" fill=\"none\" stroke=\"currentColor\"/>\n",
              "    <text dy=\"1.25em\" style=\"font-size: 0.8em; letter-spacing: 1px\">\n",
              "        <textPath xlink:href=\"#arrow-9d2ae1e11ebf4c228eef052a9a607b8e-0-13\" class=\"displacy-label\" startOffset=\"50%\" side=\"left\" fill=\"currentColor\" text-anchor=\"middle\">obl</textPath>\n",
              "    </text>\n",
              "    <path class=\"displacy-arrowhead\" d=\"M2500.0,266.5 L2508.0,254.5 2492.0,254.5\" fill=\"currentColor\"/>\n",
              "</g>\n",
              "\n",
              "<g class=\"displacy-arrow\">\n",
              "    <path class=\"displacy-arc\" id=\"arrow-9d2ae1e11ebf4c228eef052a9a607b8e-0-14\" stroke-width=\"2px\" d=\"M2695,264.5 C2695,177.0 2840.0,177.0 2840.0,264.5\" fill=\"none\" stroke=\"currentColor\"/>\n",
              "    <text dy=\"1.25em\" style=\"font-size: 0.8em; letter-spacing: 1px\">\n",
              "        <textPath xlink:href=\"#arrow-9d2ae1e11ebf4c228eef052a9a607b8e-0-14\" class=\"displacy-label\" startOffset=\"50%\" side=\"left\" fill=\"currentColor\" text-anchor=\"middle\">case</textPath>\n",
              "    </text>\n",
              "    <path class=\"displacy-arrowhead\" d=\"M2695,266.5 L2687,254.5 2703,254.5\" fill=\"currentColor\"/>\n",
              "</g>\n",
              "\n",
              "<g class=\"displacy-arrow\">\n",
              "    <path class=\"displacy-arc\" id=\"arrow-9d2ae1e11ebf4c228eef052a9a607b8e-0-15\" stroke-width=\"2px\" d=\"M2520,264.5 C2520,89.5 2845.0,89.5 2845.0,264.5\" fill=\"none\" stroke=\"currentColor\"/>\n",
              "    <text dy=\"1.25em\" style=\"font-size: 0.8em; letter-spacing: 1px\">\n",
              "        <textPath xlink:href=\"#arrow-9d2ae1e11ebf4c228eef052a9a607b8e-0-15\" class=\"displacy-label\" startOffset=\"50%\" side=\"left\" fill=\"currentColor\" text-anchor=\"middle\">nmod</textPath>\n",
              "    </text>\n",
              "    <path class=\"displacy-arrowhead\" d=\"M2845.0,266.5 L2853.0,254.5 2837.0,254.5\" fill=\"currentColor\"/>\n",
              "</g>\n",
              "</svg></span>"
            ]
          },
          "metadata": {}
        }
      ]
    },
    {
      "cell_type": "code",
      "source": [
        "text = \"Maria ha comprato un computer nuovo a Roma.\"\n",
        "\n",
        "doc = nlp_it(text)\n",
        "\n",
        "# Visualizzazione della struttura sintattica con archi\n",
        "from spacy import displacy\n",
        "displacy.render(doc, style=\"dep\", jupyter=True)\n"
      ],
      "metadata": {
        "colab": {
          "base_uri": "https://localhost:8080/",
          "height": 441
        },
        "id": "-DBxBIEuTNUh",
        "outputId": "b65ac43a-47ff-4862-b320-e235d3f35a40"
      },
      "execution_count": 12,
      "outputs": [
        {
          "output_type": "display_data",
          "data": {
            "text/plain": [
              "<IPython.core.display.HTML object>"
            ],
            "text/html": [
              "<span class=\"tex2jax_ignore\"><svg xmlns=\"http://www.w3.org/2000/svg\" xmlns:xlink=\"http://www.w3.org/1999/xlink\" xml:lang=\"it\" id=\"6bb8271da38c4327b63e9bda814204e8-0\" class=\"displacy\" width=\"1450\" height=\"399.5\" direction=\"ltr\" style=\"max-width: none; height: 399.5px; color: #000000; background: #ffffff; font-family: Arial; direction: ltr\">\n",
              "<text class=\"displacy-token\" fill=\"currentColor\" text-anchor=\"middle\" y=\"309.5\">\n",
              "    <tspan class=\"displacy-word\" fill=\"currentColor\" x=\"50\">Maria</tspan>\n",
              "    <tspan class=\"displacy-tag\" dy=\"2em\" fill=\"currentColor\" x=\"50\">PROPN</tspan>\n",
              "</text>\n",
              "\n",
              "<text class=\"displacy-token\" fill=\"currentColor\" text-anchor=\"middle\" y=\"309.5\">\n",
              "    <tspan class=\"displacy-word\" fill=\"currentColor\" x=\"225\">ha</tspan>\n",
              "    <tspan class=\"displacy-tag\" dy=\"2em\" fill=\"currentColor\" x=\"225\">AUX</tspan>\n",
              "</text>\n",
              "\n",
              "<text class=\"displacy-token\" fill=\"currentColor\" text-anchor=\"middle\" y=\"309.5\">\n",
              "    <tspan class=\"displacy-word\" fill=\"currentColor\" x=\"400\">comprato</tspan>\n",
              "    <tspan class=\"displacy-tag\" dy=\"2em\" fill=\"currentColor\" x=\"400\">VERB</tspan>\n",
              "</text>\n",
              "\n",
              "<text class=\"displacy-token\" fill=\"currentColor\" text-anchor=\"middle\" y=\"309.5\">\n",
              "    <tspan class=\"displacy-word\" fill=\"currentColor\" x=\"575\">un</tspan>\n",
              "    <tspan class=\"displacy-tag\" dy=\"2em\" fill=\"currentColor\" x=\"575\">DET</tspan>\n",
              "</text>\n",
              "\n",
              "<text class=\"displacy-token\" fill=\"currentColor\" text-anchor=\"middle\" y=\"309.5\">\n",
              "    <tspan class=\"displacy-word\" fill=\"currentColor\" x=\"750\">computer</tspan>\n",
              "    <tspan class=\"displacy-tag\" dy=\"2em\" fill=\"currentColor\" x=\"750\">NOUN</tspan>\n",
              "</text>\n",
              "\n",
              "<text class=\"displacy-token\" fill=\"currentColor\" text-anchor=\"middle\" y=\"309.5\">\n",
              "    <tspan class=\"displacy-word\" fill=\"currentColor\" x=\"925\">nuovo</tspan>\n",
              "    <tspan class=\"displacy-tag\" dy=\"2em\" fill=\"currentColor\" x=\"925\">ADJ</tspan>\n",
              "</text>\n",
              "\n",
              "<text class=\"displacy-token\" fill=\"currentColor\" text-anchor=\"middle\" y=\"309.5\">\n",
              "    <tspan class=\"displacy-word\" fill=\"currentColor\" x=\"1100\">a</tspan>\n",
              "    <tspan class=\"displacy-tag\" dy=\"2em\" fill=\"currentColor\" x=\"1100\">ADP</tspan>\n",
              "</text>\n",
              "\n",
              "<text class=\"displacy-token\" fill=\"currentColor\" text-anchor=\"middle\" y=\"309.5\">\n",
              "    <tspan class=\"displacy-word\" fill=\"currentColor\" x=\"1275\">Roma.</tspan>\n",
              "    <tspan class=\"displacy-tag\" dy=\"2em\" fill=\"currentColor\" x=\"1275\">PROPN</tspan>\n",
              "</text>\n",
              "\n",
              "<g class=\"displacy-arrow\">\n",
              "    <path class=\"displacy-arc\" id=\"arrow-6bb8271da38c4327b63e9bda814204e8-0-0\" stroke-width=\"2px\" d=\"M70,264.5 C70,89.5 395.0,89.5 395.0,264.5\" fill=\"none\" stroke=\"currentColor\"/>\n",
              "    <text dy=\"1.25em\" style=\"font-size: 0.8em; letter-spacing: 1px\">\n",
              "        <textPath xlink:href=\"#arrow-6bb8271da38c4327b63e9bda814204e8-0-0\" class=\"displacy-label\" startOffset=\"50%\" side=\"left\" fill=\"currentColor\" text-anchor=\"middle\">nsubj</textPath>\n",
              "    </text>\n",
              "    <path class=\"displacy-arrowhead\" d=\"M70,266.5 L62,254.5 78,254.5\" fill=\"currentColor\"/>\n",
              "</g>\n",
              "\n",
              "<g class=\"displacy-arrow\">\n",
              "    <path class=\"displacy-arc\" id=\"arrow-6bb8271da38c4327b63e9bda814204e8-0-1\" stroke-width=\"2px\" d=\"M245,264.5 C245,177.0 390.0,177.0 390.0,264.5\" fill=\"none\" stroke=\"currentColor\"/>\n",
              "    <text dy=\"1.25em\" style=\"font-size: 0.8em; letter-spacing: 1px\">\n",
              "        <textPath xlink:href=\"#arrow-6bb8271da38c4327b63e9bda814204e8-0-1\" class=\"displacy-label\" startOffset=\"50%\" side=\"left\" fill=\"currentColor\" text-anchor=\"middle\">aux</textPath>\n",
              "    </text>\n",
              "    <path class=\"displacy-arrowhead\" d=\"M245,266.5 L237,254.5 253,254.5\" fill=\"currentColor\"/>\n",
              "</g>\n",
              "\n",
              "<g class=\"displacy-arrow\">\n",
              "    <path class=\"displacy-arc\" id=\"arrow-6bb8271da38c4327b63e9bda814204e8-0-2\" stroke-width=\"2px\" d=\"M595,264.5 C595,177.0 740.0,177.0 740.0,264.5\" fill=\"none\" stroke=\"currentColor\"/>\n",
              "    <text dy=\"1.25em\" style=\"font-size: 0.8em; letter-spacing: 1px\">\n",
              "        <textPath xlink:href=\"#arrow-6bb8271da38c4327b63e9bda814204e8-0-2\" class=\"displacy-label\" startOffset=\"50%\" side=\"left\" fill=\"currentColor\" text-anchor=\"middle\">det</textPath>\n",
              "    </text>\n",
              "    <path class=\"displacy-arrowhead\" d=\"M595,266.5 L587,254.5 603,254.5\" fill=\"currentColor\"/>\n",
              "</g>\n",
              "\n",
              "<g class=\"displacy-arrow\">\n",
              "    <path class=\"displacy-arc\" id=\"arrow-6bb8271da38c4327b63e9bda814204e8-0-3\" stroke-width=\"2px\" d=\"M420,264.5 C420,89.5 745.0,89.5 745.0,264.5\" fill=\"none\" stroke=\"currentColor\"/>\n",
              "    <text dy=\"1.25em\" style=\"font-size: 0.8em; letter-spacing: 1px\">\n",
              "        <textPath xlink:href=\"#arrow-6bb8271da38c4327b63e9bda814204e8-0-3\" class=\"displacy-label\" startOffset=\"50%\" side=\"left\" fill=\"currentColor\" text-anchor=\"middle\">obj</textPath>\n",
              "    </text>\n",
              "    <path class=\"displacy-arrowhead\" d=\"M745.0,266.5 L753.0,254.5 737.0,254.5\" fill=\"currentColor\"/>\n",
              "</g>\n",
              "\n",
              "<g class=\"displacy-arrow\">\n",
              "    <path class=\"displacy-arc\" id=\"arrow-6bb8271da38c4327b63e9bda814204e8-0-4\" stroke-width=\"2px\" d=\"M770,264.5 C770,177.0 915.0,177.0 915.0,264.5\" fill=\"none\" stroke=\"currentColor\"/>\n",
              "    <text dy=\"1.25em\" style=\"font-size: 0.8em; letter-spacing: 1px\">\n",
              "        <textPath xlink:href=\"#arrow-6bb8271da38c4327b63e9bda814204e8-0-4\" class=\"displacy-label\" startOffset=\"50%\" side=\"left\" fill=\"currentColor\" text-anchor=\"middle\">amod</textPath>\n",
              "    </text>\n",
              "    <path class=\"displacy-arrowhead\" d=\"M915.0,266.5 L923.0,254.5 907.0,254.5\" fill=\"currentColor\"/>\n",
              "</g>\n",
              "\n",
              "<g class=\"displacy-arrow\">\n",
              "    <path class=\"displacy-arc\" id=\"arrow-6bb8271da38c4327b63e9bda814204e8-0-5\" stroke-width=\"2px\" d=\"M1120,264.5 C1120,177.0 1265.0,177.0 1265.0,264.5\" fill=\"none\" stroke=\"currentColor\"/>\n",
              "    <text dy=\"1.25em\" style=\"font-size: 0.8em; letter-spacing: 1px\">\n",
              "        <textPath xlink:href=\"#arrow-6bb8271da38c4327b63e9bda814204e8-0-5\" class=\"displacy-label\" startOffset=\"50%\" side=\"left\" fill=\"currentColor\" text-anchor=\"middle\">case</textPath>\n",
              "    </text>\n",
              "    <path class=\"displacy-arrowhead\" d=\"M1120,266.5 L1112,254.5 1128,254.5\" fill=\"currentColor\"/>\n",
              "</g>\n",
              "\n",
              "<g class=\"displacy-arrow\">\n",
              "    <path class=\"displacy-arc\" id=\"arrow-6bb8271da38c4327b63e9bda814204e8-0-6\" stroke-width=\"2px\" d=\"M420,264.5 C420,2.0 1275.0,2.0 1275.0,264.5\" fill=\"none\" stroke=\"currentColor\"/>\n",
              "    <text dy=\"1.25em\" style=\"font-size: 0.8em; letter-spacing: 1px\">\n",
              "        <textPath xlink:href=\"#arrow-6bb8271da38c4327b63e9bda814204e8-0-6\" class=\"displacy-label\" startOffset=\"50%\" side=\"left\" fill=\"currentColor\" text-anchor=\"middle\">obl</textPath>\n",
              "    </text>\n",
              "    <path class=\"displacy-arrowhead\" d=\"M1275.0,266.5 L1283.0,254.5 1267.0,254.5\" fill=\"currentColor\"/>\n",
              "</g>\n",
              "</svg></span>"
            ]
          },
          "metadata": {}
        }
      ]
    },
    {
      "cell_type": "markdown",
      "source": [
        "Il **Dependency Parsing** analizza la struttura sintattica di una frase, identificando le relazioni grammaticali tra le parole.\n",
        "\n",
        "### 🧠 Esempio:\n",
        "Frase: `\"Maria ha comprato un computer nuovo a Roma.\"`\n",
        "\n",
        "| Parola   | Dipendenza (`dep_`) | Testa grammaticale (`head.text`) | Descrizione                         |\n",
        "|----------|---------------------|----------------------------------|-------------------------------------|\n",
        "| Maria    | `nsubj`             | `comprato`                       | Soggetto del verbo                  |\n",
        "| ha       | `aux`               | `comprato`                       | Ausiliare del verbo                 |\n",
        "| comprato | `ROOT`              | —                                | Verbo principale (radice della frase) |\n",
        "| un       | `det`               | `computer`                       | Determinante del nome               |\n",
        "| computer | `obj`               | `comprato`                       | Oggetto del verbo                   |\n",
        "| nuovo    | `amod`              | `computer`                       | Aggettivo che modifica il nome      |\n",
        "| a        | `case`              | `Roma`                           | Preposizione che introduce il complemento |\n",
        "| Roma     | `obl`               | `comprato`                       | Complemento obliquo (luogo)         |\n",
        "\n",
        "### 📈 Visualizzazione grafica\n",
        "\n",
        "La visualizzazione con `displacy.render(doc, style=\"dep\")` mostra graficamente queste relazioni con archi sopra la frase, facilitando la comprensione della struttura sintattica.\n",
        "\n",
        "- il verbo principale (`ROOT`)\n",
        "- il soggetto (`nsubj`)\n",
        "- l’oggetto (`obj`)\n",
        "- il complemento (`obl`)\n"
      ],
      "metadata": {
        "id": "DwHlKP2cVEx0"
      }
    },
    {
      "cell_type": "markdown",
      "source": [
        "##📌 6. VOCABULARY — Costruzione di un dizionario dei lemm"
      ],
      "metadata": {
        "id": "ggyKrnGLPoO-"
      }
    },
    {
      "cell_type": "markdown",
      "source": [
        "Esempio pratico: Lemmatizzazione per normalizzare e costruire un vocabolario\n",
        "\n",
        "Nel NLP, è comune trovare la stessa parola scritta in modi diversi a seconda del tempo verbale o del numero (singolare/plurale).\n",
        "La **lemmatizzazione** risolve questo problema, riconducendo tutte le forme alla **radice comune**, o **lemma**.\n",
        "\n",
        "### 🧪 Frase analizzata:\n",
        "*\"Ho comprato un libro. Poi ne ho comprati altri due. Compra anche tu qualcosa da leggere!\"*\n",
        "\n",
        "### 🔍 Risultato:\n",
        "- `\"compra\"`, `\"comprato\"`, `\"comprati\"` → **\"comprare\"**\n",
        "- `\"libro\"`, `\"libri\"` → **\"libro\"**\n",
        "\n",
        "### 📚 Utilità:\n",
        "\n",
        "| Obiettivo                           | Come aiuta la lemmatizzazione |\n",
        "|------------------------------------|-------------------------------|\n",
        "| 🔍 Normalizzazione                 | Rende confrontabili parole simili (es. per ricerche) |\n",
        "| 📚 Vocabolario pulito              | Riduce le dimensioni del dizionario nei modelli NLP |\n",
        "| 📈 Ricerca e classificazione       | Migliora l’efficacia di motori di ricerca o analisi del testo |\n",
        "\n",
        "> Esempio: un motore di ricerca semantico riconosce che \"compra\" e \"comprato\" si riferiscono alla stessa azione **grazie al lemma comune**: `\"comprare\"`.\n"
      ],
      "metadata": {
        "id": "h_hKFLsKXV7j"
      }
    },
    {
      "cell_type": "code",
      "source": [
        "# Frase con flessioni verbali e nominali\n",
        "text = \"\"\"\n",
        "Ho comprato un libro. Poi ne ho comprati altri due. Compra anche tu qualcosa da leggere!\n",
        "\"\"\"\n",
        "\n",
        "# Analisi con spaCy\n",
        "doc = nlp_it(text)\n",
        "\n",
        "# Estrazione dei lemmi (ignorando punteggiatura e stopword)\n",
        "lemmi = [token.lemma_.lower() for token in doc if token.is_alpha and not token.is_stop]\n",
        "\n",
        "# Conteggio delle frequenze dei lemmi\n",
        "from collections import Counter\n",
        "vocabolario = Counter(lemmi)\n",
        "\n",
        "# Stampa dei lemmi normalizzati e frequenze\n",
        "print(\"📚 Vocabolario normalizzato (lemmi):\")\n",
        "for lemma, freq in vocabolario.items():\n",
        "    print(f\"{lemma:15} ➜ {freq}\")\n"
      ],
      "metadata": {
        "colab": {
          "base_uri": "https://localhost:8080/"
        },
        "id": "Y2iNGtqXXZm9",
        "outputId": "df2d28f5-6063-4323-e257-08cf7ce90816"
      },
      "execution_count": 14,
      "outputs": [
        {
          "output_type": "stream",
          "name": "stdout",
          "text": [
            "📚 Vocabolario normalizzato (lemmi):\n",
            "comprare        ➜ 3\n",
            "libro           ➜ 1\n",
            "leggere         ➜ 1\n"
          ]
        }
      ]
    },
    {
      "cell_type": "markdown",
      "source": [
        "## 📌 7. STOP WORD FILTERING — Rimozione delle parole vuote\n",
        "\n",
        "Le **stop word** sono parole molto comuni che, nella maggior parte dei casi, **non aggiungono significato semantico forte** al testo.\n",
        "Esempi in italiano: `\"il\"`, `\"la\"`, `\"di\"`, `\"e\"`, `\"con\"`, `\"che\"`, `\"per\"`...\n",
        "\n",
        "Queste parole vengono spesso **rimosse** durante le analisi linguistiche per:\n",
        "- 📚 semplificare il vocabolario\n",
        "- ⚙️ migliorare le prestazioni degli algoritmi\n",
        "- 🧠 focalizzarsi sui termini realmente significativi\n",
        "\n",
        "### 🧪 Esempio:\n",
        "Frase: `\"La ragazza ha preso il treno per andare a Roma con il suo amico.\"`\n",
        "\n",
        "Senza le stop word rimangono solo:\n",
        "- `ragazza`, `preso`, `treno`, `andare`, `Roma`, `amico`\n",
        "\n",
        "### 🧰 Come funziona in spaCy:\n",
        "- Ogni token ha una proprietà booleana `.is_stop`\n",
        "- Se `token.is_stop == True`, allora è una stop word\n",
        "\n",
        "> ⚠️ Nota: la lista delle stop word è specifica per ogni lingua e può essere personalizzata.\n"
      ],
      "metadata": {
        "id": "_WWtn9fiYZo0"
      }
    },
    {
      "cell_type": "code",
      "source": [
        "# Frase di esempio\n",
        "text = \"La ragazza ha preso il treno per andare a Roma con il suo amico.\"\n",
        "\n",
        "# Analisi linguistica\n",
        "doc = nlp_it(text)\n",
        "\n",
        "# Filtraggio delle parole vuote (stop words)\n",
        "print(\"📍Parole significative (senza stop word e punteggiatura):\")\n",
        "for token in doc:\n",
        "    if not token.is_stop and not token.is_punct:\n",
        "        print(token.text)\n"
      ],
      "metadata": {
        "colab": {
          "base_uri": "https://localhost:8080/"
        },
        "id": "LAgWdHGcYeOq",
        "outputId": "880aac88-8778-452c-d950-b8b6c596e20a"
      },
      "execution_count": 15,
      "outputs": [
        {
          "output_type": "stream",
          "name": "stdout",
          "text": [
            "📍Parole significative (senza stop word e punteggiatura):\n",
            "ragazza\n",
            "preso\n",
            "treno\n",
            "andare\n",
            "Roma\n",
            "amico\n"
          ]
        }
      ]
    },
    {
      "cell_type": "markdown",
      "source": [
        "## 📌 8. VISUALIZZAZIONI — Con displacy (sintassi e entità)\n",
        "\n",
        "spaCy include uno strumento integrato chiamato **`displacy`**, che permette di visualizzare in modo interattivo:\n",
        "\n",
        "### 1️⃣ Relazioni sintattiche (`style=\"dep\"`)\n",
        "Mostra **archi sopra la frase** che collegano le parole in base alla loro funzione grammaticale (soggetto, verbo, oggetto, complemento...).  \n",
        "È utile per comprendere la struttura sintattica di una frase e per attività di parsing linguistico avanzato.\n",
        "\n",
        "### 2️⃣ Entità nominate (`style=\"ent\"`)\n",
        "Evidenzia **entità riconosciute** (persone, luoghi, organizzazioni, date...) con colori diversi all’interno del testo.  \n",
        "Serve a visualizzare facilmente **quali parti del testo sono state classificate semanticamente** dal modello.\n",
        "\n",
        "### 🧪 Frase usata:\n",
        "*\"Lunedì 20 maggio, Luca Bianchi ha incontrato il sindaco di Roma per discutere il progetto.\"*\n",
        "\n",
        "- ✨ Entità riconosciute: `Luca Bianchi` (PER), `Roma` (LOC), `20 maggio` (DATE)\n",
        "- 🔁 Relazioni sintattiche: `Luca` → soggetto, `ha incontrato` → verbo principale, `sindaco` → oggetto, `di Roma` → specificazione\n",
        "\n",
        "> 📌 Queste visualizzazioni sono interattive solo in notebook Jupyter/Colab.\n"
      ],
      "metadata": {
        "id": "-6CPFyANPs3f"
      }
    },
    {
      "cell_type": "code",
      "source": [
        "from spacy import displacy\n",
        "\n",
        "# Frase di esempio\n",
        "text = \"Lunedì 20 maggio, Luca Bianchi ha incontrato il sindaco di Roma per discutere il progetto.\"\n",
        "\n",
        "# Analisi del testo\n",
        "doc = nlp_it(text)\n",
        "\n",
        "# Visualizzazione 1: Relazioni sintattiche (dependency parsing)\n",
        "print(\"📍Visualizzazione delle relazioni sintattiche:\")\n",
        "displacy.render(doc, style=\"dep\", jupyter=True)\n",
        "\n",
        "# Visualizzazione 2: Entità nominate (NER)\n",
        "print(\"📍Visualizzazione delle entità riconosciute:\")\n",
        "displacy.render(doc, style=\"ent\", jupyter=True)\n"
      ],
      "metadata": {
        "colab": {
          "base_uri": "https://localhost:8080/",
          "height": 510
        },
        "id": "Ltlbv35PPqOd",
        "outputId": "9bcbc158-48d5-4310-9544-0f4d575ac236"
      },
      "execution_count": 16,
      "outputs": [
        {
          "output_type": "stream",
          "name": "stdout",
          "text": [
            "📍Visualizzazione delle relazioni sintattiche:\n"
          ]
        },
        {
          "output_type": "display_data",
          "data": {
            "text/plain": [
              "<IPython.core.display.HTML object>"
            ],
            "text/html": [
              "<span class=\"tex2jax_ignore\"><svg xmlns=\"http://www.w3.org/2000/svg\" xmlns:xlink=\"http://www.w3.org/1999/xlink\" xml:lang=\"it\" id=\"e4043057881348239a521fd9d51e37aa-0\" class=\"displacy\" width=\"2675\" height=\"399.5\" direction=\"ltr\" style=\"max-width: none; height: 399.5px; color: #000000; background: #ffffff; font-family: Arial; direction: ltr\">\n",
              "<text class=\"displacy-token\" fill=\"currentColor\" text-anchor=\"middle\" y=\"309.5\">\n",
              "    <tspan class=\"displacy-word\" fill=\"currentColor\" x=\"50\">Lunedì</tspan>\n",
              "    <tspan class=\"displacy-tag\" dy=\"2em\" fill=\"currentColor\" x=\"50\">NOUN</tspan>\n",
              "</text>\n",
              "\n",
              "<text class=\"displacy-token\" fill=\"currentColor\" text-anchor=\"middle\" y=\"309.5\">\n",
              "    <tspan class=\"displacy-word\" fill=\"currentColor\" x=\"225\">20</tspan>\n",
              "    <tspan class=\"displacy-tag\" dy=\"2em\" fill=\"currentColor\" x=\"225\">NUM</tspan>\n",
              "</text>\n",
              "\n",
              "<text class=\"displacy-token\" fill=\"currentColor\" text-anchor=\"middle\" y=\"309.5\">\n",
              "    <tspan class=\"displacy-word\" fill=\"currentColor\" x=\"400\">maggio,</tspan>\n",
              "    <tspan class=\"displacy-tag\" dy=\"2em\" fill=\"currentColor\" x=\"400\">NOUN</tspan>\n",
              "</text>\n",
              "\n",
              "<text class=\"displacy-token\" fill=\"currentColor\" text-anchor=\"middle\" y=\"309.5\">\n",
              "    <tspan class=\"displacy-word\" fill=\"currentColor\" x=\"575\">Luca</tspan>\n",
              "    <tspan class=\"displacy-tag\" dy=\"2em\" fill=\"currentColor\" x=\"575\">PROPN</tspan>\n",
              "</text>\n",
              "\n",
              "<text class=\"displacy-token\" fill=\"currentColor\" text-anchor=\"middle\" y=\"309.5\">\n",
              "    <tspan class=\"displacy-word\" fill=\"currentColor\" x=\"750\">Bianchi</tspan>\n",
              "    <tspan class=\"displacy-tag\" dy=\"2em\" fill=\"currentColor\" x=\"750\">PROPN</tspan>\n",
              "</text>\n",
              "\n",
              "<text class=\"displacy-token\" fill=\"currentColor\" text-anchor=\"middle\" y=\"309.5\">\n",
              "    <tspan class=\"displacy-word\" fill=\"currentColor\" x=\"925\">ha</tspan>\n",
              "    <tspan class=\"displacy-tag\" dy=\"2em\" fill=\"currentColor\" x=\"925\">AUX</tspan>\n",
              "</text>\n",
              "\n",
              "<text class=\"displacy-token\" fill=\"currentColor\" text-anchor=\"middle\" y=\"309.5\">\n",
              "    <tspan class=\"displacy-word\" fill=\"currentColor\" x=\"1100\">incontrato</tspan>\n",
              "    <tspan class=\"displacy-tag\" dy=\"2em\" fill=\"currentColor\" x=\"1100\">VERB</tspan>\n",
              "</text>\n",
              "\n",
              "<text class=\"displacy-token\" fill=\"currentColor\" text-anchor=\"middle\" y=\"309.5\">\n",
              "    <tspan class=\"displacy-word\" fill=\"currentColor\" x=\"1275\">il</tspan>\n",
              "    <tspan class=\"displacy-tag\" dy=\"2em\" fill=\"currentColor\" x=\"1275\">DET</tspan>\n",
              "</text>\n",
              "\n",
              "<text class=\"displacy-token\" fill=\"currentColor\" text-anchor=\"middle\" y=\"309.5\">\n",
              "    <tspan class=\"displacy-word\" fill=\"currentColor\" x=\"1450\">sindaco</tspan>\n",
              "    <tspan class=\"displacy-tag\" dy=\"2em\" fill=\"currentColor\" x=\"1450\">NOUN</tspan>\n",
              "</text>\n",
              "\n",
              "<text class=\"displacy-token\" fill=\"currentColor\" text-anchor=\"middle\" y=\"309.5\">\n",
              "    <tspan class=\"displacy-word\" fill=\"currentColor\" x=\"1625\">di</tspan>\n",
              "    <tspan class=\"displacy-tag\" dy=\"2em\" fill=\"currentColor\" x=\"1625\">ADP</tspan>\n",
              "</text>\n",
              "\n",
              "<text class=\"displacy-token\" fill=\"currentColor\" text-anchor=\"middle\" y=\"309.5\">\n",
              "    <tspan class=\"displacy-word\" fill=\"currentColor\" x=\"1800\">Roma</tspan>\n",
              "    <tspan class=\"displacy-tag\" dy=\"2em\" fill=\"currentColor\" x=\"1800\">PROPN</tspan>\n",
              "</text>\n",
              "\n",
              "<text class=\"displacy-token\" fill=\"currentColor\" text-anchor=\"middle\" y=\"309.5\">\n",
              "    <tspan class=\"displacy-word\" fill=\"currentColor\" x=\"1975\">per</tspan>\n",
              "    <tspan class=\"displacy-tag\" dy=\"2em\" fill=\"currentColor\" x=\"1975\">ADP</tspan>\n",
              "</text>\n",
              "\n",
              "<text class=\"displacy-token\" fill=\"currentColor\" text-anchor=\"middle\" y=\"309.5\">\n",
              "    <tspan class=\"displacy-word\" fill=\"currentColor\" x=\"2150\">discutere</tspan>\n",
              "    <tspan class=\"displacy-tag\" dy=\"2em\" fill=\"currentColor\" x=\"2150\">VERB</tspan>\n",
              "</text>\n",
              "\n",
              "<text class=\"displacy-token\" fill=\"currentColor\" text-anchor=\"middle\" y=\"309.5\">\n",
              "    <tspan class=\"displacy-word\" fill=\"currentColor\" x=\"2325\">il</tspan>\n",
              "    <tspan class=\"displacy-tag\" dy=\"2em\" fill=\"currentColor\" x=\"2325\">DET</tspan>\n",
              "</text>\n",
              "\n",
              "<text class=\"displacy-token\" fill=\"currentColor\" text-anchor=\"middle\" y=\"309.5\">\n",
              "    <tspan class=\"displacy-word\" fill=\"currentColor\" x=\"2500\">progetto.</tspan>\n",
              "    <tspan class=\"displacy-tag\" dy=\"2em\" fill=\"currentColor\" x=\"2500\">NOUN</tspan>\n",
              "</text>\n",
              "\n",
              "<g class=\"displacy-arrow\">\n",
              "    <path class=\"displacy-arc\" id=\"arrow-e4043057881348239a521fd9d51e37aa-0-0\" stroke-width=\"2px\" d=\"M70,264.5 C70,2.0 1100.0,2.0 1100.0,264.5\" fill=\"none\" stroke=\"currentColor\"/>\n",
              "    <text dy=\"1.25em\" style=\"font-size: 0.8em; letter-spacing: 1px\">\n",
              "        <textPath xlink:href=\"#arrow-e4043057881348239a521fd9d51e37aa-0-0\" class=\"displacy-label\" startOffset=\"50%\" side=\"left\" fill=\"currentColor\" text-anchor=\"middle\">obl</textPath>\n",
              "    </text>\n",
              "    <path class=\"displacy-arrowhead\" d=\"M70,266.5 L62,254.5 78,254.5\" fill=\"currentColor\"/>\n",
              "</g>\n",
              "\n",
              "<g class=\"displacy-arrow\">\n",
              "    <path class=\"displacy-arc\" id=\"arrow-e4043057881348239a521fd9d51e37aa-0-1\" stroke-width=\"2px\" d=\"M70,264.5 C70,177.0 215.0,177.0 215.0,264.5\" fill=\"none\" stroke=\"currentColor\"/>\n",
              "    <text dy=\"1.25em\" style=\"font-size: 0.8em; letter-spacing: 1px\">\n",
              "        <textPath xlink:href=\"#arrow-e4043057881348239a521fd9d51e37aa-0-1\" class=\"displacy-label\" startOffset=\"50%\" side=\"left\" fill=\"currentColor\" text-anchor=\"middle\">nmod</textPath>\n",
              "    </text>\n",
              "    <path class=\"displacy-arrowhead\" d=\"M215.0,266.5 L223.0,254.5 207.0,254.5\" fill=\"currentColor\"/>\n",
              "</g>\n",
              "\n",
              "<g class=\"displacy-arrow\">\n",
              "    <path class=\"displacy-arc\" id=\"arrow-e4043057881348239a521fd9d51e37aa-0-2\" stroke-width=\"2px\" d=\"M245,264.5 C245,177.0 390.0,177.0 390.0,264.5\" fill=\"none\" stroke=\"currentColor\"/>\n",
              "    <text dy=\"1.25em\" style=\"font-size: 0.8em; letter-spacing: 1px\">\n",
              "        <textPath xlink:href=\"#arrow-e4043057881348239a521fd9d51e37aa-0-2\" class=\"displacy-label\" startOffset=\"50%\" side=\"left\" fill=\"currentColor\" text-anchor=\"middle\">flat</textPath>\n",
              "    </text>\n",
              "    <path class=\"displacy-arrowhead\" d=\"M390.0,266.5 L398.0,254.5 382.0,254.5\" fill=\"currentColor\"/>\n",
              "</g>\n",
              "\n",
              "<g class=\"displacy-arrow\">\n",
              "    <path class=\"displacy-arc\" id=\"arrow-e4043057881348239a521fd9d51e37aa-0-3\" stroke-width=\"2px\" d=\"M595,264.5 C595,89.5 1095.0,89.5 1095.0,264.5\" fill=\"none\" stroke=\"currentColor\"/>\n",
              "    <text dy=\"1.25em\" style=\"font-size: 0.8em; letter-spacing: 1px\">\n",
              "        <textPath xlink:href=\"#arrow-e4043057881348239a521fd9d51e37aa-0-3\" class=\"displacy-label\" startOffset=\"50%\" side=\"left\" fill=\"currentColor\" text-anchor=\"middle\">nsubj</textPath>\n",
              "    </text>\n",
              "    <path class=\"displacy-arrowhead\" d=\"M595,266.5 L587,254.5 603,254.5\" fill=\"currentColor\"/>\n",
              "</g>\n",
              "\n",
              "<g class=\"displacy-arrow\">\n",
              "    <path class=\"displacy-arc\" id=\"arrow-e4043057881348239a521fd9d51e37aa-0-4\" stroke-width=\"2px\" d=\"M595,264.5 C595,177.0 740.0,177.0 740.0,264.5\" fill=\"none\" stroke=\"currentColor\"/>\n",
              "    <text dy=\"1.25em\" style=\"font-size: 0.8em; letter-spacing: 1px\">\n",
              "        <textPath xlink:href=\"#arrow-e4043057881348239a521fd9d51e37aa-0-4\" class=\"displacy-label\" startOffset=\"50%\" side=\"left\" fill=\"currentColor\" text-anchor=\"middle\">flat:name</textPath>\n",
              "    </text>\n",
              "    <path class=\"displacy-arrowhead\" d=\"M740.0,266.5 L748.0,254.5 732.0,254.5\" fill=\"currentColor\"/>\n",
              "</g>\n",
              "\n",
              "<g class=\"displacy-arrow\">\n",
              "    <path class=\"displacy-arc\" id=\"arrow-e4043057881348239a521fd9d51e37aa-0-5\" stroke-width=\"2px\" d=\"M945,264.5 C945,177.0 1090.0,177.0 1090.0,264.5\" fill=\"none\" stroke=\"currentColor\"/>\n",
              "    <text dy=\"1.25em\" style=\"font-size: 0.8em; letter-spacing: 1px\">\n",
              "        <textPath xlink:href=\"#arrow-e4043057881348239a521fd9d51e37aa-0-5\" class=\"displacy-label\" startOffset=\"50%\" side=\"left\" fill=\"currentColor\" text-anchor=\"middle\">aux</textPath>\n",
              "    </text>\n",
              "    <path class=\"displacy-arrowhead\" d=\"M945,266.5 L937,254.5 953,254.5\" fill=\"currentColor\"/>\n",
              "</g>\n",
              "\n",
              "<g class=\"displacy-arrow\">\n",
              "    <path class=\"displacy-arc\" id=\"arrow-e4043057881348239a521fd9d51e37aa-0-6\" stroke-width=\"2px\" d=\"M1295,264.5 C1295,177.0 1440.0,177.0 1440.0,264.5\" fill=\"none\" stroke=\"currentColor\"/>\n",
              "    <text dy=\"1.25em\" style=\"font-size: 0.8em; letter-spacing: 1px\">\n",
              "        <textPath xlink:href=\"#arrow-e4043057881348239a521fd9d51e37aa-0-6\" class=\"displacy-label\" startOffset=\"50%\" side=\"left\" fill=\"currentColor\" text-anchor=\"middle\">det</textPath>\n",
              "    </text>\n",
              "    <path class=\"displacy-arrowhead\" d=\"M1295,266.5 L1287,254.5 1303,254.5\" fill=\"currentColor\"/>\n",
              "</g>\n",
              "\n",
              "<g class=\"displacy-arrow\">\n",
              "    <path class=\"displacy-arc\" id=\"arrow-e4043057881348239a521fd9d51e37aa-0-7\" stroke-width=\"2px\" d=\"M1120,264.5 C1120,89.5 1445.0,89.5 1445.0,264.5\" fill=\"none\" stroke=\"currentColor\"/>\n",
              "    <text dy=\"1.25em\" style=\"font-size: 0.8em; letter-spacing: 1px\">\n",
              "        <textPath xlink:href=\"#arrow-e4043057881348239a521fd9d51e37aa-0-7\" class=\"displacy-label\" startOffset=\"50%\" side=\"left\" fill=\"currentColor\" text-anchor=\"middle\">obj</textPath>\n",
              "    </text>\n",
              "    <path class=\"displacy-arrowhead\" d=\"M1445.0,266.5 L1453.0,254.5 1437.0,254.5\" fill=\"currentColor\"/>\n",
              "</g>\n",
              "\n",
              "<g class=\"displacy-arrow\">\n",
              "    <path class=\"displacy-arc\" id=\"arrow-e4043057881348239a521fd9d51e37aa-0-8\" stroke-width=\"2px\" d=\"M1645,264.5 C1645,177.0 1790.0,177.0 1790.0,264.5\" fill=\"none\" stroke=\"currentColor\"/>\n",
              "    <text dy=\"1.25em\" style=\"font-size: 0.8em; letter-spacing: 1px\">\n",
              "        <textPath xlink:href=\"#arrow-e4043057881348239a521fd9d51e37aa-0-8\" class=\"displacy-label\" startOffset=\"50%\" side=\"left\" fill=\"currentColor\" text-anchor=\"middle\">case</textPath>\n",
              "    </text>\n",
              "    <path class=\"displacy-arrowhead\" d=\"M1645,266.5 L1637,254.5 1653,254.5\" fill=\"currentColor\"/>\n",
              "</g>\n",
              "\n",
              "<g class=\"displacy-arrow\">\n",
              "    <path class=\"displacy-arc\" id=\"arrow-e4043057881348239a521fd9d51e37aa-0-9\" stroke-width=\"2px\" d=\"M1470,264.5 C1470,89.5 1795.0,89.5 1795.0,264.5\" fill=\"none\" stroke=\"currentColor\"/>\n",
              "    <text dy=\"1.25em\" style=\"font-size: 0.8em; letter-spacing: 1px\">\n",
              "        <textPath xlink:href=\"#arrow-e4043057881348239a521fd9d51e37aa-0-9\" class=\"displacy-label\" startOffset=\"50%\" side=\"left\" fill=\"currentColor\" text-anchor=\"middle\">nmod</textPath>\n",
              "    </text>\n",
              "    <path class=\"displacy-arrowhead\" d=\"M1795.0,266.5 L1803.0,254.5 1787.0,254.5\" fill=\"currentColor\"/>\n",
              "</g>\n",
              "\n",
              "<g class=\"displacy-arrow\">\n",
              "    <path class=\"displacy-arc\" id=\"arrow-e4043057881348239a521fd9d51e37aa-0-10\" stroke-width=\"2px\" d=\"M1995,264.5 C1995,177.0 2140.0,177.0 2140.0,264.5\" fill=\"none\" stroke=\"currentColor\"/>\n",
              "    <text dy=\"1.25em\" style=\"font-size: 0.8em; letter-spacing: 1px\">\n",
              "        <textPath xlink:href=\"#arrow-e4043057881348239a521fd9d51e37aa-0-10\" class=\"displacy-label\" startOffset=\"50%\" side=\"left\" fill=\"currentColor\" text-anchor=\"middle\">mark</textPath>\n",
              "    </text>\n",
              "    <path class=\"displacy-arrowhead\" d=\"M1995,266.5 L1987,254.5 2003,254.5\" fill=\"currentColor\"/>\n",
              "</g>\n",
              "\n",
              "<g class=\"displacy-arrow\">\n",
              "    <path class=\"displacy-arc\" id=\"arrow-e4043057881348239a521fd9d51e37aa-0-11\" stroke-width=\"2px\" d=\"M1120,264.5 C1120,2.0 2150.0,2.0 2150.0,264.5\" fill=\"none\" stroke=\"currentColor\"/>\n",
              "    <text dy=\"1.25em\" style=\"font-size: 0.8em; letter-spacing: 1px\">\n",
              "        <textPath xlink:href=\"#arrow-e4043057881348239a521fd9d51e37aa-0-11\" class=\"displacy-label\" startOffset=\"50%\" side=\"left\" fill=\"currentColor\" text-anchor=\"middle\">advcl</textPath>\n",
              "    </text>\n",
              "    <path class=\"displacy-arrowhead\" d=\"M2150.0,266.5 L2158.0,254.5 2142.0,254.5\" fill=\"currentColor\"/>\n",
              "</g>\n",
              "\n",
              "<g class=\"displacy-arrow\">\n",
              "    <path class=\"displacy-arc\" id=\"arrow-e4043057881348239a521fd9d51e37aa-0-12\" stroke-width=\"2px\" d=\"M2345,264.5 C2345,177.0 2490.0,177.0 2490.0,264.5\" fill=\"none\" stroke=\"currentColor\"/>\n",
              "    <text dy=\"1.25em\" style=\"font-size: 0.8em; letter-spacing: 1px\">\n",
              "        <textPath xlink:href=\"#arrow-e4043057881348239a521fd9d51e37aa-0-12\" class=\"displacy-label\" startOffset=\"50%\" side=\"left\" fill=\"currentColor\" text-anchor=\"middle\">det</textPath>\n",
              "    </text>\n",
              "    <path class=\"displacy-arrowhead\" d=\"M2345,266.5 L2337,254.5 2353,254.5\" fill=\"currentColor\"/>\n",
              "</g>\n",
              "\n",
              "<g class=\"displacy-arrow\">\n",
              "    <path class=\"displacy-arc\" id=\"arrow-e4043057881348239a521fd9d51e37aa-0-13\" stroke-width=\"2px\" d=\"M2170,264.5 C2170,89.5 2495.0,89.5 2495.0,264.5\" fill=\"none\" stroke=\"currentColor\"/>\n",
              "    <text dy=\"1.25em\" style=\"font-size: 0.8em; letter-spacing: 1px\">\n",
              "        <textPath xlink:href=\"#arrow-e4043057881348239a521fd9d51e37aa-0-13\" class=\"displacy-label\" startOffset=\"50%\" side=\"left\" fill=\"currentColor\" text-anchor=\"middle\">obj</textPath>\n",
              "    </text>\n",
              "    <path class=\"displacy-arrowhead\" d=\"M2495.0,266.5 L2503.0,254.5 2487.0,254.5\" fill=\"currentColor\"/>\n",
              "</g>\n",
              "</svg></span>"
            ]
          },
          "metadata": {}
        },
        {
          "output_type": "stream",
          "name": "stdout",
          "text": [
            "📍Visualizzazione delle entità riconosciute:\n"
          ]
        },
        {
          "output_type": "display_data",
          "data": {
            "text/plain": [
              "<IPython.core.display.HTML object>"
            ],
            "text/html": [
              "<span class=\"tex2jax_ignore\"><div class=\"entities\" style=\"line-height: 2.5; direction: ltr\">Lunedì 20 maggio, \n",
              "<mark class=\"entity\" style=\"background: #ddd; padding: 0.45em 0.6em; margin: 0 0.25em; line-height: 1; border-radius: 0.35em;\">\n",
              "    Luca Bianchi\n",
              "    <span style=\"font-size: 0.8em; font-weight: bold; line-height: 1; border-radius: 0.35em; vertical-align: middle; margin-left: 0.5rem\">PER</span>\n",
              "</mark>\n",
              " ha incontrato il sindaco di \n",
              "<mark class=\"entity\" style=\"background: #ff9561; padding: 0.45em 0.6em; margin: 0 0.25em; line-height: 1; border-radius: 0.35em;\">\n",
              "    Roma\n",
              "    <span style=\"font-size: 0.8em; font-weight: bold; line-height: 1; border-radius: 0.35em; vertical-align: middle; margin-left: 0.5rem\">LOC</span>\n",
              "</mark>\n",
              " per discutere il progetto.</div></span>"
            ]
          },
          "metadata": {}
        }
      ]
    },
    {
      "cell_type": "code",
      "source": [
        "!pip install dateparser\n"
      ],
      "metadata": {
        "colab": {
          "base_uri": "https://localhost:8080/"
        },
        "id": "xSbDKubMZBcx",
        "outputId": "51a4e6c5-b580-497a-e3e1-d39622fc9c7b"
      },
      "execution_count": 17,
      "outputs": [
        {
          "output_type": "stream",
          "name": "stdout",
          "text": [
            "Collecting dateparser\n",
            "  Downloading dateparser-1.2.1-py3-none-any.whl.metadata (29 kB)\n",
            "Requirement already satisfied: python-dateutil>=2.7.0 in /usr/local/lib/python3.11/dist-packages (from dateparser) (2.9.0.post0)\n",
            "Requirement already satisfied: pytz>=2024.2 in /usr/local/lib/python3.11/dist-packages (from dateparser) (2025.2)\n",
            "Requirement already satisfied: regex!=2019.02.19,!=2021.8.27,>=2015.06.24 in /usr/local/lib/python3.11/dist-packages (from dateparser) (2024.11.6)\n",
            "Requirement already satisfied: tzlocal>=0.2 in /usr/local/lib/python3.11/dist-packages (from dateparser) (5.3.1)\n",
            "Requirement already satisfied: six>=1.5 in /usr/local/lib/python3.11/dist-packages (from python-dateutil>=2.7.0->dateparser) (1.17.0)\n",
            "Downloading dateparser-1.2.1-py3-none-any.whl (295 kB)\n",
            "\u001b[?25l   \u001b[90m━━━━━━━━━━━━━━━━━━━━━━━━━━━━━━━━━━━━━━━━\u001b[0m \u001b[32m0.0/295.7 kB\u001b[0m \u001b[31m?\u001b[0m eta \u001b[36m-:--:--\u001b[0m\r\u001b[2K   \u001b[91m━━━━━━━━━━━━━━━━━━━━━━━━━━━━━━━━━━━━\u001b[0m\u001b[90m╺\u001b[0m\u001b[90m━━━\u001b[0m \u001b[32m266.2/295.7 kB\u001b[0m \u001b[31m9.0 MB/s\u001b[0m eta \u001b[36m0:00:01\u001b[0m\r\u001b[2K   \u001b[90m━━━━━━━━━━━━━━━━━━━━━━━━━━━━━━━━━━━━━━━━\u001b[0m \u001b[32m295.7/295.7 kB\u001b[0m \u001b[31m5.7 MB/s\u001b[0m eta \u001b[36m0:00:00\u001b[0m\n",
            "\u001b[?25hInstalling collected packages: dateparser\n",
            "Successfully installed dateparser-1.2.1\n"
          ]
        }
      ]
    },
    {
      "cell_type": "code",
      "source": [
        "import dateparser\n",
        "\n",
        "testo = \"Ci vediamo lunedì 20 maggio alle 14:30.\"\n",
        "\n",
        "data = dateparser.parse(testo, languages=['it'])\n",
        "print(\"📅 Data estratta:\", data)\n"
      ],
      "metadata": {
        "colab": {
          "base_uri": "https://localhost:8080/"
        },
        "id": "Lrp5rsf2ZF42",
        "outputId": "d9e4967f-67fe-4e48-bf0a-7eada534f4e6"
      },
      "execution_count": 18,
      "outputs": [
        {
          "output_type": "stream",
          "name": "stdout",
          "text": [
            "📅 Data estratta: None\n"
          ]
        }
      ]
    },
    {
      "cell_type": "code",
      "source": [
        "import dateparser\n",
        "\n",
        "# Esempio semplice e chiaro\n",
        "frase = \"20 maggio 2024\"\n",
        "\n",
        "data = dateparser.parse(frase, languages=['it'])\n",
        "print(\"📅 Data estratta:\", data)\n"
      ],
      "metadata": {
        "colab": {
          "base_uri": "https://localhost:8080/"
        },
        "id": "qoZl0LxqZXTT",
        "outputId": "22f73c6c-beb0-434c-e642-bb66f463373f"
      },
      "execution_count": 20,
      "outputs": [
        {
          "output_type": "stream",
          "name": "stdout",
          "text": [
            "📅 Data estratta: 2024-05-20 00:00:00\n"
          ]
        }
      ]
    },
    {
      "cell_type": "markdown",
      "source": [
        "## 📌 Estrazione automatica di date in italiano — Regex + Dateparser\n",
        "\n",
        "##🔍 Perché i modelli standard hanno difficoltà con le date in italiano?\n",
        "\n",
        "I modelli pre-addestrati di spaCy per l'italiano, come `it_core_news_sm`, sono stati addestrati su dataset che non coprono esaustivamente tutte le espressioni di date possibili nella lingua italiana. Questo porta a una bassa precisione nel riconoscimento delle entità temporali. Inoltre, la libreria `dateparser`, sebbene supporti oltre 200 lingue, può avere difficoltà con frasi complesse o ambigue in italiano, specialmente se contengono elementi come giorni della settimana o espressioni colloquiali.\n",
        "\n",
        "Per superare questo limite, possiamo **combinare due strumenti**:\n",
        "- 🔍 Espressioni regolari (`regex`) per identificare le porzioni di testo che contengono date\n",
        "- 🧠 La libreria `dateparser` per interpretare le date trovate e convertirle in oggetti `datetime`\n",
        "\n",
        "### ✅ Obiettivo:\n",
        "Analizzare frasi in italiano e riconoscere automaticamente date come:\n",
        "- \"Lunedì 20 maggio\"\n",
        "- \"Martedì 5 giugno\"\n",
        "- \"Domenica prossima\"\n",
        "\n",
        "Questa strategia migliora notevolmente l’accuratezza rispetto al solo uso di spaCy.\n"
      ],
      "metadata": {
        "id": "_2tl5rzeaA8c"
      }
    },
    {
      "cell_type": "code",
      "source": [
        "import re\n",
        "import dateparser\n",
        "\n",
        "# Frase di esempio\n",
        "testo = \"Lunedì 20 maggio, Luca Bianchi ha incontrato il sindaco di Roma per discutere il progetto.\"\n",
        "\n",
        "# Pattern per cercare date in forma: giorno settimana + giorno + mese (es. \"Lunedì 20 maggio\")\n",
        "pattern = r\"\\b(?:lunedì|martedì|mercoledì|giovedì|venerdì|sabato|domenica)\\s+\\d{1,2}\\s+\\w+\"\n",
        "\n",
        "# Cerca nel testo\n",
        "match = re.search(pattern, testo, flags=re.IGNORECASE)\n",
        "\n",
        "if match:\n",
        "    data_str = match.group()\n",
        "    data = dateparser.parse(data_str, languages=['it'], settings={'PREFER_DATES_FROM': 'future'})\n",
        "    print(f\"📅 Data trovata: '{data_str}' ➜ {data}\")\n",
        "else:\n",
        "    print(\"❌ Nessuna data trovata nel testo.\")\n"
      ],
      "metadata": {
        "colab": {
          "base_uri": "https://localhost:8080/"
        },
        "id": "_iRFAzs-aB2r",
        "outputId": "a21d945d-67a0-4a33-a2fb-300977d9d42a"
      },
      "execution_count": 22,
      "outputs": [
        {
          "output_type": "stream",
          "name": "stdout",
          "text": [
            "📅 Data trovata: 'Lunedì 20 maggio' ➜ 2025-05-20 00:00:00\n"
          ]
        }
      ]
    }
  ]
}